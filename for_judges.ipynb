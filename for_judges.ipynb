{
 "cells": [
  {
   "cell_type": "code",
   "execution_count": null,
   "metadata": {},
   "outputs": [],
   "source": [
    "import numpy as np\n",
    "import seaborn as sns\n",
    "import matplotlib.pyplot as plt\n",
    "import pandas as pd\n",
    "import copy\n",
    "import gdown\n"
   ]
  },
  {
   "cell_type": "markdown",
   "metadata": {},
   "source": [
    "## Replace 'test_data.pickle' with the name of the actual testing file "
   ]
  },
  {
   "cell_type": "code",
   "execution_count": null,
   "metadata": {},
   "outputs": [],
   "source": [
    "test_df = pd.read_pickle('test_data.pickle')\n",
    "test_df.info()"
   ]
  },
  {
   "cell_type": "code",
   "execution_count": null,
   "metadata": {},
   "outputs": [],
   "source": [
    "test_df"
   ]
  },
  {
   "cell_type": "code",
   "execution_count": null,
   "metadata": {},
   "outputs": [],
   "source": [
    "DICT_SYMBOLS = {\n",
    "    'A': 1,\n",
    "    'T': 2,\n",
    "    'C': 3,\n",
    "    'G': 4}"
   ]
  },
  {
   "cell_type": "code",
   "execution_count": null,
   "metadata": {},
   "outputs": [],
   "source": [
    "class Puzzle:\n",
    "    def __init__(self, data):\n",
    "        self.start = list(data[\"start\"])\n",
    "        self.moves = copy.deepcopy(data.get(\"moves\"))\n",
    "        self.steps = copy.deepcopy(data.get(\"steps\"))\n",
    "        self.solution = list(data[\"solution\"])\n",
    "        self.score = data[\"score\"]\n",
    "        self.accepted_pair = data[\"accepted_pair\"]\n",
    "\n",
    "        self.padded_start = self.build_puzzle_to_end(self.start)\n",
    "        self.padded_solution = self.build_puzzle_to_end(self.solution)\n",
    "\n",
    "    def build_puzzle_to_end(self, puzzle):\n",
    "        \"\"\"Pad each row with '-' to match the longest row for visualization.\"\"\"\n",
    "        max_len = max(len(row) for row in puzzle)\n",
    "        return [row.ljust(max_len, '-') for row in puzzle]\n",
    "\n",
    "    def plot_puzzle(self, puzzle, title):\n",
    "        puzzle = self.build_puzzle_to_end(puzzle)\n",
    "        num_puzzle = np.array([[DICT_SYMBOLS.get(char, 0) for char in row] for row in puzzle])\n",
    "        rot_num_puzzle = np.rot90(num_puzzle, 1)\n",
    "        puzzle_array = np.array([list(row) for row in puzzle])\n",
    "        rot_labels = np.rot90(puzzle_array, 1)\n",
    "\n",
    "        plt.figure(figsize=(8, 6))\n",
    "        sns.heatmap(rot_num_puzzle, annot=rot_labels, fmt=\"\", cmap=\"Pastel1_r\", cbar=False)\n",
    "        plt.title(title)\n",
    "        plt.axis(\"off\")\n",
    "        plt.show()\n",
    "\n",
    "    def gearbox_score(self, puzzle, bonus=1.15):\n",
    "        consensus = self.accepted_pair\n",
    "        score = 0\n",
    "        for col_ind in range(len(puzzle[0])):\n",
    "            col_bonus = True\n",
    "            col_tot = 0\n",
    "            column_chars = [row[col_ind] for row in puzzle]\n",
    "            for char in column_chars:\n",
    "                if char == \"-\":\n",
    "                    col_bonus = False\n",
    "                    continue\n",
    "                if char in consensus[col_ind]:\n",
    "                    col_tot += 1\n",
    "                else:\n",
    "                    col_bonus = False\n",
    "            column_score = col_tot * bonus if col_bonus else col_tot\n",
    "            score += column_score\n",
    "        print(f\"Total Gearbox Score: {score}\")\n",
    "        return score\n",
    "\n",
    "    def _apply_step_to_puzzle(self, puzzle, step):\n",
    "        \"\"\"Apply a single step to the puzzle.\"\"\"\n",
    "        new_puzzle = puzzle.copy()\n",
    "        row_index = step[0] - 1\n",
    "        col_index = step[1]\n",
    "        if row_index < 0 or row_index >= len(new_puzzle):\n",
    "            return new_puzzle\n",
    "        row_str = new_puzzle[row_index]\n",
    "        if col_index < 0 or col_index > len(row_str):\n",
    "            return new_puzzle\n",
    "        new_row = row_str[:col_index] + '-' + row_str[col_index:]\n",
    "        new_row = new_row[:len(row_str)]\n",
    "        new_puzzle[row_index] = new_row\n",
    "        return new_puzzle\n",
    "\n",
    "    def apply_all_steps(self):\n",
    "        \"\"\"Apply all steps on a copy of the puzzle and plot states.\"\"\"\n",
    "        current_puzzle = list(self.start)\n",
    "        updated_puzzles = []\n",
    "        scores = []\n",
    "\n",
    "        for step in self.steps:\n",
    "            current_puzzle = self._apply_step_to_puzzle(current_puzzle, step)\n",
    "            padded_current = self.build_puzzle_to_end(current_puzzle)\n",
    "            score = self.gearbox_score(padded_current)\n",
    "            updated_puzzles.append(padded_current)\n",
    "            scores.append(score)\n",
    "\n",
    "        n_steps = len(updated_puzzles)\n",
    "        fig, axes = plt.subplots(1, n_steps, figsize=(4 * n_steps, 6))\n",
    "        if n_steps == 1:\n",
    "            axes = [axes]\n",
    "        for idx, (puzzle_state, score) in enumerate(zip(updated_puzzles, scores)):\n",
    "            num_puzzle = np.array([[DICT_SYMBOLS.get(char, 0) for char in row] for row in puzzle_state])\n",
    "            rot_num_puzzle = np.rot90(num_puzzle, 1)\n",
    "            puzzle_array = np.array([list(row) for row in puzzle_state])\n",
    "            rot_labels = np.rot90(puzzle_array, 1)\n",
    "            ax = axes[idx]\n",
    "            sns.heatmap(rot_num_puzzle, annot=rot_labels, fmt=\"\", cmap=\"Pastel1_r\", cbar=False, ax=ax)\n",
    "            ax.set_title(f\"Step {idx+1}\\nScore: {score}\")\n",
    "            ax.axis(\"off\")\n",
    "        plt.tight_layout()\n",
    "        plt.show()\n",
    "        return current_puzzle"
   ]
  },
  {
   "cell_type": "markdown",
   "metadata": {},
   "source": [
    "## Loading the Model"
   ]
  },
  {
   "cell_type": "code",
   "execution_count": null,
   "metadata": {},
   "outputs": [],
   "source": []
  },
  {
   "cell_type": "markdown",
   "metadata": {},
   "source": []
  }
 ],
 "metadata": {
  "kernelspec": {
   "display_name": "base",
   "language": "python",
   "name": "python3"
  },
  "language_info": {
   "name": "python",
   "version": "3.12.4"
  }
 },
 "nbformat": 4,
 "nbformat_minor": 2
}
