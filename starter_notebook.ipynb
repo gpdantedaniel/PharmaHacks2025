{
  "cells": [
    {
      "cell_type": "code",
      "execution_count": 1,
      "metadata": {
        "id": "jILmCZue4ERE"
      },
      "outputs": [],
      "source": [
        "import numpy as np\n",
        "import seaborn as sns\n",
        "import matplotlib.pyplot as plt\n",
        "import pandas as pd\n",
        "import copy\n",
        "import gdown"
      ]
    },
    {
      "cell_type": "code",
      "execution_count": null,
      "metadata": {
        "colab": {
          "base_uri": "https://localhost:8080/"
        },
        "id": "CcXGv7ArpKe6",
        "outputId": "a6caf0f7-d1aa-4e3c-99ed-c35cc109b4c5"
      },
      "outputs": [
        {
          "data": {
            "text/plain": [
              "(400000, 6)"
            ]
          },
          "execution_count": 2,
          "metadata": {},
          "output_type": "execute_result"
        }
      ],
      "source": [
        "import numpy as np\n",
        "import seaborn as sns\n",
        "import matplotlib.pyplot as plt\n",
        "import pandas as pd\n",
        "import copy\n",
        "import gdown\n",
        "\n",
        "train_df = pd.read_pickle('./train_data.pickle')\n",
        "train_df.info()"
      ]
    },
    {
      "cell_type": "code",
      "execution_count": 3,
      "metadata": {
        "colab": {
          "base_uri": "https://localhost:8080/",
          "height": 597
        },
        "id": "KJljW9OpD8Gx",
        "outputId": "71dc26c7-4c07-4a1e-a8cd-012463ba0cf5"
      },
      "outputs": [
        {
          "data": {
            "text/html": [
              "<div>\n",
              "<style scoped>\n",
              "    .dataframe tbody tr th:only-of-type {\n",
              "        vertical-align: middle;\n",
              "    }\n",
              "\n",
              "    .dataframe tbody tr th {\n",
              "        vertical-align: top;\n",
              "    }\n",
              "\n",
              "    .dataframe thead th {\n",
              "        text-align: right;\n",
              "    }\n",
              "</style>\n",
              "<table border=\"1\" class=\"dataframe\">\n",
              "  <thead>\n",
              "    <tr style=\"text-align: right;\">\n",
              "      <th></th>\n",
              "      <th>start</th>\n",
              "      <th>moves</th>\n",
              "      <th>steps</th>\n",
              "      <th>solution</th>\n",
              "      <th>score</th>\n",
              "      <th>accepted_pair</th>\n",
              "    </tr>\n",
              "  </thead>\n",
              "  <tbody>\n",
              "    <tr>\n",
              "      <th>269056</th>\n",
              "      <td>[TAAGT---, AAGTT---, AAGCT---, CCCGT---, AATAT...</td>\n",
              "      <td>[B0+;3077, C0+;528, E0+;1132, F4+;4288, D4+;14...</td>\n",
              "      <td>[(2, 0), (3, 0), (5, 0), (6, 4), (4, 4), (1, 4)]</td>\n",
              "      <td>[TAAG-T, -AAGTT, -AAGCT, CCCG-T, -AATAT, AAAC-T]</td>\n",
              "      <td>18.0</td>\n",
              "      <td>[(T, G), (-, T), (A, C), (A, C), (A, C), (G, T...</td>\n",
              "    </tr>\n",
              "    <tr>\n",
              "      <th>499174</th>\n",
              "      <td>[GCAATT--, GGAACT--, GCAATT--, CCAATC--, CCAGC...</td>\n",
              "      <td>[A3+;10686, B3+;465, D3+;707, C3+;665, F3+;156...</td>\n",
              "      <td>[(1, 3), (2, 3), (4, 3), (3, 3), (6, 3), (5, 5...</td>\n",
              "      <td>[GCA-A-TT, G-GAACT, GCA-A-TT, CC-A-ATC, CCAGC-...</td>\n",
              "      <td>26.0</td>\n",
              "      <td>[(-, C), (C, T), (C, T), (C, G), (A, C), (A, C...</td>\n",
              "    </tr>\n",
              "    <tr>\n",
              "      <th>85143</th>\n",
              "      <td>[TTGA----, TGAG----, AAG-----, GTGA----, TGG--...</td>\n",
              "      <td>[C1+;13838, A0+;8192, D2+;11987]</td>\n",
              "      <td>[(3, 1), (1, 0), (4, 2)]</td>\n",
              "      <td>[-TTGA, TGAG, A-AG, GT-GA, TGG, TCGA]</td>\n",
              "      <td>15.0</td>\n",
              "      <td>[(G, T), (T, G), (A, T), (G, T), (-, T), (-, G...</td>\n",
              "    </tr>\n",
              "    <tr>\n",
              "      <th>260335</th>\n",
              "      <td>[TACCTC------, GAACGC------, GGCAC-------, AGG...</td>\n",
              "      <td>[D0+;9860, F0+;4104, F1+;1535, G0+;3771, I0+;4...</td>\n",
              "      <td>[(4, 0), (6, 0), (6, 1), (7, 0), (9, 0)]</td>\n",
              "      <td>[TACCTC, GAACGC, GGCAC, -AGGTCC, AAAAGC, --GGT...</td>\n",
              "      <td>49.0</td>\n",
              "      <td>[(-, C), (A, C), (A, G), (G, A), (-, T), (-, G...</td>\n",
              "    </tr>\n",
              "    <tr>\n",
              "      <th>338124</th>\n",
              "      <td>[GGAA---, ATAAA--, ATAAA--, GCAC---, TGAA---, ...</td>\n",
              "      <td>[B2+;12844, D2+;1042, C2+;1533, E2+;1442]</td>\n",
              "      <td>[(2, 2), (4, 2), (3, 2), (5, 2)]</td>\n",
              "      <td>[GGAA, AT-AAA, AT-AAA, GC-AC, TG-AA, AATA]</td>\n",
              "      <td>11.0</td>\n",
              "      <td>[(C, T), (C, T), (T, G), (-, T), (A, C), (A, C...</td>\n",
              "    </tr>\n",
              "    <tr>\n",
              "      <th>...</th>\n",
              "      <td>...</td>\n",
              "      <td>...</td>\n",
              "      <td>...</td>\n",
              "      <td>...</td>\n",
              "      <td>...</td>\n",
              "      <td>...</td>\n",
              "    </tr>\n",
              "    <tr>\n",
              "      <th>259178</th>\n",
              "      <td>[TGGC---, TCCC---, CTCC---, CGTA---, GTGT---, ...</td>\n",
              "      <td>[C0+;4072, E0+;1769, C1+;2435, B1+;1018]</td>\n",
              "      <td>[(3, 0), (5, 0), (3, 1), (2, 1)]</td>\n",
              "      <td>[TGGC, T-CCC, --CTCC, CGTA, -GTGT, GGTAG]</td>\n",
              "      <td>12.0</td>\n",
              "      <td>[(A, T), (A, G), (G, A), (T, G), (T, C), (T, G...</td>\n",
              "    </tr>\n",
              "    <tr>\n",
              "      <th>365838</th>\n",
              "      <td>[TCATAGCCT---, TCATAGGGC---, TCAATTTTT---, TCA...</td>\n",
              "      <td>[C2+;16917, D2+;1552, F5+;17050, B5+;11445, A8...</td>\n",
              "      <td>[(3, 2), (4, 2), (6, 5), (2, 5), (1, 8), (5, 8...</td>\n",
              "      <td>[TCATAGCC-T, TCATA-GGGC, TC-AATTTTT, TC-AAGATT...</td>\n",
              "      <td>43.0</td>\n",
              "      <td>[(G, A), (-, C), (T, G), (C, T), (A, C), (-, T...</td>\n",
              "    </tr>\n",
              "    <tr>\n",
              "      <th>131932</th>\n",
              "      <td>[CAGT---, TAGT---, GCTT---, AAGT---, GAGT---, ...</td>\n",
              "      <td>[A0+;11501, B0+;1750]</td>\n",
              "      <td>[(1, 0), (2, 0)]</td>\n",
              "      <td>[-CAGT, -TAGT, GCTT, AAGT, GAGT, GGGC]</td>\n",
              "      <td>15.0</td>\n",
              "      <td>[(G, A), (T, G), (G, A), (A, G), (G, T), (-, C...</td>\n",
              "    </tr>\n",
              "    <tr>\n",
              "      <th>146867</th>\n",
              "      <td>[TTTG---, GAAG---, GAGG---, GATG---, GTT----, ...</td>\n",
              "      <td>[A0+;4807, B1+;3803, C1+;4005, C2+;3369, D2+;2...</td>\n",
              "      <td>[(1, 0), (2, 1), (3, 1), (3, 2), (4, 2), (4, 2...</td>\n",
              "      <td>[-TTTG, GA-AG, G--AGG, GA-TG, GTT, A--A-CC]</td>\n",
              "      <td>19.0</td>\n",
              "      <td>[(-, G), (-, T), (G, T), (A, T), (T, G), (G, T...</td>\n",
              "    </tr>\n",
              "    <tr>\n",
              "      <th>121958</th>\n",
              "      <td>[CCAACTCGT---, TCAACCCGG---, CCAACTCTG---, TCC...</td>\n",
              "      <td>[B0+;7408, D0+;2324, E0+;1337, F0+;1974, A2+;5...</td>\n",
              "      <td>[(2, 0), (4, 0), (5, 0), (6, 0), (1, 2), (3, 2...</td>\n",
              "      <td>[CC--AACTCGT, -TC-AACCCGG, CC--AACTCTG, -TCCCT...</td>\n",
              "      <td>62.0</td>\n",
              "      <td>[(-, C), (C, T), (C, T), (C, G), (A, C), (A, C...</td>\n",
              "    </tr>\n",
              "  </tbody>\n",
              "</table>\n",
              "<p>400000 rows × 6 columns</p>\n",
              "</div>"
            ],
            "text/plain": [
              "                                                    start  \\\n",
              "269056  [TAAGT---, AAGTT---, AAGCT---, CCCGT---, AATAT...   \n",
              "499174  [GCAATT--, GGAACT--, GCAATT--, CCAATC--, CCAGC...   \n",
              "85143   [TTGA----, TGAG----, AAG-----, GTGA----, TGG--...   \n",
              "260335  [TACCTC------, GAACGC------, GGCAC-------, AGG...   \n",
              "338124  [GGAA---, ATAAA--, ATAAA--, GCAC---, TGAA---, ...   \n",
              "...                                                   ...   \n",
              "259178  [TGGC---, TCCC---, CTCC---, CGTA---, GTGT---, ...   \n",
              "365838  [TCATAGCCT---, TCATAGGGC---, TCAATTTTT---, TCA...   \n",
              "131932  [CAGT---, TAGT---, GCTT---, AAGT---, GAGT---, ...   \n",
              "146867  [TTTG---, GAAG---, GAGG---, GATG---, GTT----, ...   \n",
              "121958  [CCAACTCGT---, TCAACCCGG---, CCAACTCTG---, TCC...   \n",
              "\n",
              "                                                    moves  \\\n",
              "269056  [B0+;3077, C0+;528, E0+;1132, F4+;4288, D4+;14...   \n",
              "499174  [A3+;10686, B3+;465, D3+;707, C3+;665, F3+;156...   \n",
              "85143                    [C1+;13838, A0+;8192, D2+;11987]   \n",
              "260335  [D0+;9860, F0+;4104, F1+;1535, G0+;3771, I0+;4...   \n",
              "338124          [B2+;12844, D2+;1042, C2+;1533, E2+;1442]   \n",
              "...                                                   ...   \n",
              "259178           [C0+;4072, E0+;1769, C1+;2435, B1+;1018]   \n",
              "365838  [C2+;16917, D2+;1552, F5+;17050, B5+;11445, A8...   \n",
              "131932                              [A0+;11501, B0+;1750]   \n",
              "146867  [A0+;4807, B1+;3803, C1+;4005, C2+;3369, D2+;2...   \n",
              "121958  [B0+;7408, D0+;2324, E0+;1337, F0+;1974, A2+;5...   \n",
              "\n",
              "                                                    steps  \\\n",
              "269056   [(2, 0), (3, 0), (5, 0), (6, 4), (4, 4), (1, 4)]   \n",
              "499174  [(1, 3), (2, 3), (4, 3), (3, 3), (6, 3), (5, 5...   \n",
              "85143                            [(3, 1), (1, 0), (4, 2)]   \n",
              "260335           [(4, 0), (6, 0), (6, 1), (7, 0), (9, 0)]   \n",
              "338124                   [(2, 2), (4, 2), (3, 2), (5, 2)]   \n",
              "...                                                   ...   \n",
              "259178                   [(3, 0), (5, 0), (3, 1), (2, 1)]   \n",
              "365838  [(3, 2), (4, 2), (6, 5), (2, 5), (1, 8), (5, 8...   \n",
              "131932                                   [(1, 0), (2, 0)]   \n",
              "146867  [(1, 0), (2, 1), (3, 1), (3, 2), (4, 2), (4, 2...   \n",
              "121958  [(2, 0), (4, 0), (5, 0), (6, 0), (1, 2), (3, 2...   \n",
              "\n",
              "                                                 solution  score  \\\n",
              "269056   [TAAG-T, -AAGTT, -AAGCT, CCCG-T, -AATAT, AAAC-T]   18.0   \n",
              "499174  [GCA-A-TT, G-GAACT, GCA-A-TT, CC-A-ATC, CCAGC-...   26.0   \n",
              "85143               [-TTGA, TGAG, A-AG, GT-GA, TGG, TCGA]   15.0   \n",
              "260335  [TACCTC, GAACGC, GGCAC, -AGGTCC, AAAAGC, --GGT...   49.0   \n",
              "338124         [GGAA, AT-AAA, AT-AAA, GC-AC, TG-AA, AATA]   11.0   \n",
              "...                                                   ...    ...   \n",
              "259178          [TGGC, T-CCC, --CTCC, CGTA, -GTGT, GGTAG]   12.0   \n",
              "365838  [TCATAGCC-T, TCATA-GGGC, TC-AATTTTT, TC-AAGATT...   43.0   \n",
              "131932             [-CAGT, -TAGT, GCTT, AAGT, GAGT, GGGC]   15.0   \n",
              "146867        [-TTTG, GA-AG, G--AGG, GA-TG, GTT, A--A-CC]   19.0   \n",
              "121958  [CC--AACTCGT, -TC-AACCCGG, CC--AACTCTG, -TCCCT...   62.0   \n",
              "\n",
              "                                            accepted_pair  \n",
              "269056  [(T, G), (-, T), (A, C), (A, C), (A, C), (G, T...  \n",
              "499174  [(-, C), (C, T), (C, T), (C, G), (A, C), (A, C...  \n",
              "85143   [(G, T), (T, G), (A, T), (G, T), (-, T), (-, G...  \n",
              "260335  [(-, C), (A, C), (A, G), (G, A), (-, T), (-, G...  \n",
              "338124  [(C, T), (C, T), (T, G), (-, T), (A, C), (A, C...  \n",
              "...                                                   ...  \n",
              "259178  [(A, T), (A, G), (G, A), (T, G), (T, C), (T, G...  \n",
              "365838  [(G, A), (-, C), (T, G), (C, T), (A, C), (-, T...  \n",
              "131932  [(G, A), (T, G), (G, A), (A, G), (G, T), (-, C...  \n",
              "146867  [(-, G), (-, T), (G, T), (A, T), (T, G), (G, T...  \n",
              "121958  [(-, C), (C, T), (C, T), (C, G), (A, C), (A, C...  \n",
              "\n",
              "[400000 rows x 6 columns]"
            ]
          },
          "execution_count": 3,
          "metadata": {},
          "output_type": "execute_result"
        }
      ],
      "source": [
        "train_df"
      ]
    },
    {
      "cell_type": "code",
      "execution_count": 4,
      "metadata": {
        "id": "BbrC7fIkOF5l"
      },
      "outputs": [],
      "source": [
        "DICT_SYMBOLS = {\n",
        "    'A': 1,\n",
        "    'T': 2,\n",
        "    'C': 3,\n",
        "    'G': 4}"
      ]
    },
    {
      "cell_type": "code",
      "execution_count": 5,
      "metadata": {
        "id": "ZqdYrirf9LBB"
      },
      "outputs": [],
      "source": [
        "class Puzzle:\n",
        "    def __init__(self, data):\n",
        "        self.start = list(data[\"start\"])\n",
        "        self.moves = copy.deepcopy(data.get(\"moves\"))\n",
        "        self.steps = copy.deepcopy(data.get(\"steps\"))\n",
        "        self.solution = list(data[\"solution\"])\n",
        "        self.score = data[\"score\"]\n",
        "        self.accepted_pair = data[\"accepted_pair\"]\n",
        "\n",
        "        self.padded_start = self.build_puzzle_to_end(self.start)\n",
        "        self.padded_solution = self.build_puzzle_to_end(self.solution)\n",
        "\n",
        "    def build_puzzle_to_end(self, puzzle):\n",
        "        \"\"\"Pad each row with '-' to match the longest row for visualization.\"\"\"\n",
        "        max_len = max(len(row) for row in puzzle)\n",
        "        return [row.ljust(max_len, '-') for row in puzzle]\n",
        "\n",
        "    def plot_puzzle(self, puzzle, title):\n",
        "        puzzle = self.build_puzzle_to_end(puzzle)\n",
        "        num_puzzle = np.array([[DICT_SYMBOLS.get(char, 0) for char in row] for row in puzzle])\n",
        "        rot_num_puzzle = np.rot90(num_puzzle, 1)\n",
        "        puzzle_array = np.array([list(row) for row in puzzle])\n",
        "        rot_labels = np.rot90(puzzle_array, 1)\n",
        "\n",
        "        plt.figure(figsize=(8, 6))\n",
        "        sns.heatmap(rot_num_puzzle, annot=rot_labels, fmt=\"\", cmap=\"Pastel1_r\", cbar=False)\n",
        "        plt.title(title)\n",
        "        plt.axis(\"off\")\n",
        "        plt.show()\n",
        "\n",
        "    def gearbox_score(self, puzzle, bonus=1.15):\n",
        "        consensus = self.accepted_pair\n",
        "        score = 0\n",
        "        for col_ind in range(len(puzzle[0])):\n",
        "            col_bonus = True\n",
        "            col_tot = 0\n",
        "            column_chars = [row[col_ind] for row in puzzle]\n",
        "            for char in column_chars:\n",
        "                if char == \"-\":\n",
        "                    col_bonus = False\n",
        "                    continue\n",
        "                if char in consensus[col_ind]:\n",
        "                    col_tot += 1\n",
        "                else:\n",
        "                    col_bonus = False\n",
        "            column_score = col_tot * bonus if col_bonus else col_tot\n",
        "            score += column_score\n",
        "        print(f\"Total Gearbox Score: {score}\")\n",
        "        return score\n",
        "\n",
        "    def _apply_step_to_puzzle(self, puzzle, step):\n",
        "        \"\"\"Apply a single step to the puzzle.\"\"\"\n",
        "        new_puzzle = puzzle.copy()\n",
        "        row_index = step[0] - 1\n",
        "        col_index = step[1]\n",
        "        if row_index < 0 or row_index >= len(new_puzzle):\n",
        "            return new_puzzle\n",
        "        row_str = new_puzzle[row_index]\n",
        "        if col_index < 0 or col_index > len(row_str):\n",
        "            return new_puzzle\n",
        "        new_row = row_str[:col_index] + '-' + row_str[col_index:]\n",
        "        new_row = new_row[:len(row_str)]\n",
        "        new_puzzle[row_index] = new_row\n",
        "        return new_puzzle\n",
        "\n",
        "    def apply_all_steps(self):\n",
        "        \"\"\"Apply all steps on a copy of the puzzle and plot states.\"\"\"\n",
        "        current_puzzle = list(self.start)\n",
        "        updated_puzzles = []\n",
        "        scores = []\n",
        "\n",
        "        for step in self.steps:\n",
        "            current_puzzle = self._apply_step_to_puzzle(current_puzzle, step)\n",
        "            padded_current = self.build_puzzle_to_end(current_puzzle)\n",
        "            score = self.gearbox_score(padded_current)\n",
        "            updated_puzzles.append(padded_current)\n",
        "            scores.append(score)\n",
        "\n",
        "        n_steps = len(updated_puzzles)\n",
        "        fig, axes = plt.subplots(1, n_steps, figsize=(4 * n_steps, 6))\n",
        "        if n_steps == 1:\n",
        "            axes = [axes]\n",
        "        for idx, (puzzle_state, score) in enumerate(zip(updated_puzzles, scores)):\n",
        "            num_puzzle = np.array([[DICT_SYMBOLS.get(char, 0) for char in row] for row in puzzle_state])\n",
        "            rot_num_puzzle = np.rot90(num_puzzle, 1)\n",
        "            puzzle_array = np.array([list(row) for row in puzzle_state])\n",
        "            rot_labels = np.rot90(puzzle_array, 1)\n",
        "            ax = axes[idx]\n",
        "            sns.heatmap(rot_num_puzzle, annot=rot_labels, fmt=\"\", cmap=\"Pastel1_r\", cbar=False, ax=ax)\n",
        "            ax.set_title(f\"Step {idx+1}\\nScore: {score}\")\n",
        "            ax.axis(\"off\")\n",
        "        plt.tight_layout()\n",
        "        plt.show()\n",
        "        return current_puzzle"
      ]
    },
    {
      "cell_type": "code",
      "execution_count": 6,
      "metadata": {
        "id": "pLBwJLwC9d6s"
      },
      "outputs": [],
      "source": [
        "# Create puzzle\n",
        "puzzle_data = {\n",
        "    'start': train_df.iloc[-1]['start'],\n",
        "    'moves': train_df.iloc[-1].get('moves'),\n",
        "    'steps': train_df.iloc[-1].get('steps'),\n",
        "    'solution': train_df.iloc[-1]['solution'],\n",
        "    'score': train_df.iloc[-1]['score'],\n",
        "    'accepted_pair': train_df.iloc[-1]['accepted_pair']\n",
        "}\n",
        "\n",
        "puzzle = Puzzle(puzzle_data)"
      ]
    },
    {
      "cell_type": "code",
      "execution_count": 7,
      "metadata": {
        "colab": {
          "base_uri": "https://localhost:8080/",
          "height": 1000
        },
        "id": "OzIL0z2F9iED",
        "outputId": "e5d92b99-899c-4fd5-c47d-2fcb18972598"
      },
      "outputs": [
        {
          "data": {
            "image/png": "[encoded data removed]",
            "text/plain": [
              "<Figure size 800x600 with 1 Axes>"
            ]
          },
          "metadata": {},
          "output_type": "display_data"
        },
        {
          "data": {
            "image/png": "[encoded data removed]",
            "text/plain": [
              "<Figure size 800x600 with 1 Axes>"
            ]
          },
          "metadata": {},
          "output_type": "display_data"
        }
      ],
      "source": [
        "puzzle.plot_puzzle(puzzle.start, \"Starting Puzzle\")\n",
        "puzzle.plot_puzzle(puzzle.solution, \"Solution Puzzle\")\n"
      ]
    },
    {
      "cell_type": "code",
      "execution_count": 8,
      "metadata": {
        "colab": {
          "base_uri": "https://localhost:8080/",
          "height": 624
        },
        "id": "bk9XELC9-mep",
        "outputId": "bfc3d250-713f-42b3-ad71-efc7566d192a"
      },
      "outputs": [
        {
          "name": "stdout",
          "output_type": "stream",
          "text": [
            "Total Gearbox Score: 33.099999999999994\n",
            "Total Gearbox Score: 37.15\n",
            "Total Gearbox Score: 41.15\n",
            "Total Gearbox Score: 45.14999999999999\n",
            "Total Gearbox Score: 47.14999999999999\n",
            "Total Gearbox Score: 50.14999999999999\n",
            "Total Gearbox Score: 55.249999999999986\n",
            "Total Gearbox Score: 56.249999999999986\n",
            "Total Gearbox Score: 58.249999999999986\n",
            "Total Gearbox Score: 59.249999999999986\n",
            "Total Gearbox Score: 59.19999999999999\n",
            "Total Gearbox Score: 60.19999999999999\n",
            "Total Gearbox Score: 61.19999999999999\n"
          ]
        },
        {
          "data": {
            "image/png": "[encoded data removed]",
            "text/plain": [
              "<Figure size 5200x600 with 13 Axes>"
            ]
          },
          "metadata": {},
          "output_type": "display_data"
        }
      ],
      "source": [
        "updated_puzzle = puzzle.apply_all_steps()"
      ]
    },
    {
      "cell_type": "code",
      "execution_count": 9,
      "metadata": {
        "colab": {
          "base_uri": "https://localhost:8080/"
        },
        "id": "I-yIsRZ9-nfy",
        "outputId": "9ea6b4ac-1cc2-430e-d96e-5f30abdc79dc"
      },
      "outputs": [
        {
          "data": {
            "text/plain": [
              "[(2, 0),\n",
              " (4, 0),\n",
              " (5, 0),\n",
              " (6, 0),\n",
              " (1, 2),\n",
              " (3, 2),\n",
              " (7, 2),\n",
              " (1, 3),\n",
              " (2, 3),\n",
              " (3, 3),\n",
              " (5, 3),\n",
              " (6, 3),\n",
              " (7, 3)]"
            ]
          },
          "execution_count": 9,
          "metadata": {},
          "output_type": "execute_result"
        }
      ],
      "source": [
        "puzzle.steps"
      ]
    },
    {
      "cell_type": "markdown",
      "metadata": {},
      "source": [
        "## Training the model"
      ]
    },
    {
      "cell_type": "code",
      "execution_count": 15,
      "metadata": {},
      "outputs": [
        {
          "name": "stdout",
          "output_type": "stream",
          "text": [
            "<class 'pandas.core.frame.DataFrame'>\n",
            "Index: 400000 entries, 269056 to 121958\n",
            "Data columns (total 6 columns):\n",
            " #   Column         Non-Null Count   Dtype  \n",
            "---  ------         --------------   -----  \n",
            " 0   start          400000 non-null  object \n",
            " 1   moves          400000 non-null  object \n",
            " 2   steps          399997 non-null  object \n",
            " 3   solution       400000 non-null  object \n",
            " 4   score          400000 non-null  float64\n",
            " 5   accepted_pair  400000 non-null  object \n",
            "dtypes: float64(1), object(5)\n",
            "memory usage: 21.4+ MB\n"
          ]
        }
      ],
      "source": [
        "import numpy as np\n",
        "import seaborn as sns\n",
        "import matplotlib.pyplot as plt\n",
        "import pandas as pd\n",
        "import copy\n",
        "import gdown\n",
        "\n",
        "train_data = pd.read_pickle('./train_data.pickle')\n",
        "train_data.info()"
      ]
    },
    {
      "cell_type": "code",
      "execution_count": 1,
      "metadata": {},
      "outputs": [
        {
          "name": "stderr",
          "output_type": "stream",
          "text": [
            "You are using the default legacy behaviour of the <class 'transformers.models.t5.tokenization_t5.T5Tokenizer'>. This is expected, and simply means that the `legacy` (previous) behavior will be used so nothing changes for you. If you want to use the new behaviour, set `legacy=False`. This should only be set if you understand what it means, and thoroughly read the reason why this was added as explained in https://github.com/huggingface/transformers/pull/24565\n"
          ]
        }
      ],
      "source": [
        "from transformers import T5Tokenizer, T5ForConditionalGeneration\n",
        "\n",
        "model_name = \"google/flan-t5-small\"\n",
        "tokenizer = T5Tokenizer.from_pretrained(model_name)\n",
        "model = T5ForConditionalGeneration.from_pretrained(model_name)"
      ]
    },
    {
      "cell_type": "code",
      "execution_count": 21,
      "metadata": {},
      "outputs": [],
      "source": [
        "from datasets import load_from_disk\n",
        "dataset = load_from_disk(\"./preprocessed_dataset\")\n"
      ]
    },
    {
      "cell_type": "code",
      "execution_count": 27,
      "metadata": {},
      "outputs": [
        {
          "data": {
            "text/plain": [
              "'Align DNA sequences: 0: TAAGT--- 1: AAGTT--- 2: AAGCT--- 3: CCCGT--- 4: AATAT--- 5: AAACT---</s><pad><pad><pad><pad><pad><pad><pad><pad><pad><pad><pad><pad><pad><pad><pad><pad><pad><pad><pad><pad><pad><pad><pad><pad><pad><pad><pad><pad><pad><pad><pad><pad><pad><pad><pad><pad><pad><pad><pad><pad><pad><pad><pad><pad><pad><pad><pad><pad><pad><pad><pad><pad><pad><pad><pad><pad><pad><pad><pad><pad><pad><pad><pad><pad><pad><pad><pad><pad><pad><pad><pad><pad><pad><pad><pad><pad><pad><pad><pad><pad><pad><pad><pad><pad><pad><pad><pad><pad><pad><pad><pad><pad><pad><pad><pad><pad><pad><pad><pad><pad><pad><pad><pad><pad><pad><pad><pad><pad><pad><pad><pad><pad><pad><pad><pad><pad><pad><pad><pad><pad><pad><pad><pad><pad><pad><pad><pad><pad><pad><pad><pad><pad><pad><pad><pad><pad><pad><pad><pad><pad><pad><pad><pad><pad><pad><pad><pad>'"
            ]
          },
          "execution_count": 27,
          "metadata": {},
          "output_type": "execute_result"
        }
      ],
      "source": [
        "tokenizer.decode(dataset[0]['input_ids'])"
      ]
    },
    {
      "cell_type": "code",
      "execution_count": 17,
      "metadata": {},
      "outputs": [
        {
          "data": {
            "text/plain": [
              "Dataset({\n",
              "    features: ['start', 'moves', 'steps', 'solution', 'score', 'accepted_pair', '__index_level_0__'],\n",
              "    num_rows: 400000\n",
              "})"
            ]
          },
          "execution_count": 17,
          "metadata": {},
          "output_type": "execute_result"
        }
      ],
      "source": [
        "from datasets import Dataset \n",
        "\n",
        "dataset = Dataset.from_pandas(train_data)\n",
        "dataset"
      ]
    },
    {
      "cell_type": "code",
      "execution_count": 18,
      "metadata": {},
      "outputs": [
        {
          "data": {
            "application/vnd.jupyter.widget-view+json": {
              "model_id": "f86e0df175634f40b85778d90a7da7dd",
              "version_major": 2,
              "version_minor": 0
            },
            "text/plain": [
              "Filter:   0%|          | 0/400000 [00:00<?, ? examples/s]"
            ]
          },
          "metadata": {},
          "output_type": "display_data"
        }
      ],
      "source": [
        "dataset = dataset.filter(lambda example: all(value is not None for value in example.values()))\n"
      ]
    },
    {
      "cell_type": "code",
      "execution_count": 22,
      "metadata": {},
      "outputs": [
        {
          "data": {
            "text/plain": [
              "Dataset({\n",
              "    features: ['start', 'moves', 'steps', 'solution', 'score', 'accepted_pair', '__index_level_0__'],\n",
              "    num_rows: 399997\n",
              "})"
            ]
          },
          "execution_count": 22,
          "metadata": {},
          "output_type": "execute_result"
        }
      ],
      "source": [
        "dataset"
      ]
    },
    {
      "cell_type": "code",
      "execution_count": 23,
      "metadata": {},
      "outputs": [],
      "source": [
        "def preprocess_function(example):\n",
        "    input_text = 'Align DNA sequences:\\n' + '\\n'.join([\n",
        "        f'{i}: {seq}' for i, seq in enumerate(example['start'])\n",
        "    ])\n",
        "    target_text = \", \".join(\n",
        "        str(step) for step in example['steps']\n",
        "    )\n",
        "\n",
        "    # Tokenize input and target\n",
        "    tokenized_inputs = tokenizer(\n",
        "        input_text, padding=\"max_length\", truncation=True, max_length=512\n",
        "    )\n",
        "    tokenized_targets = tokenizer(\n",
        "        target_text, padding=\"max_length\", truncation=True, max_length=128\n",
        "    )\n",
        "\n",
        "    return {\n",
        "        \"input_text\": input_text,\n",
        "        \"target\": target_text,\n",
        "        \"input_ids\": tokenized_inputs[\"input_ids\"],\n",
        "        \"attention_mask\": tokenized_inputs[\"attention_mask\"],\n",
        "        \"labels\": tokenized_targets[\"input_ids\"],\n",
        "    }"
      ]
    },
    {
      "cell_type": "code",
      "execution_count": 37,
      "metadata": {},
      "outputs": [
        {
          "name": "stdout",
          "output_type": "stream",
          "text": [
            "[2, 0], [3, 0], [5, 0], [6, 4], [4, 4], [1, 4]\n",
            "[1, 3], [2, 3], [4, 3], [3, 3], [6, 3], [5, 5], [1, 5], [3, 5], [2, 1], [2, 2], [4, 2]\n",
            "[3, 1], [1, 0], [4, 2]\n",
            "[4, 0], [6, 0], [6, 1], [7, 0], [9, 0]\n",
            "[2, 2], [4, 2], [3, 2], [5, 2]\n",
            "[1, 0], [9, 4], [10, 4], [14, 4]\n",
            "[7, 7], [7, 8], [8, 7], [8, 8], [7, 9], [17, 2], [17, 3], [17, 4], [17, 6], [10, 5], [10, 7]\n",
            "[3, 2], [5, 2], [7, 2], [7, 3], [3, 4], [5, 5], [7, 6], [6, 6], [2, 8]\n",
            "[1, 1], [1, 2], [2, 2], [3, 1], [3, 2], [4, 2], [6, 2]\n",
            "[5, 0], [6, 0], [6, 0], [6, 1], [6, 3], [6, 2], [6, 3], [4, 1], [4, 1], [4, 3]\n",
            "[2, 2], [2, 2], [3, 2], [4, 2], [5, 2], [6, 2], [2, 7], [2, 8], [4, 8], [6, 7], [7, 7], [8, 6], [9, 6], [10, 6], [11, 6]\n",
            "[2, 1], [3, 1], [4, 1], [5, 5], [6, 5], [1, 3], [6, 1], [4, 4], [4, 5]\n",
            "[1, 3], [2, 3], [5, 3], [4, 4], [3, 4]\n",
            "[9, 0], [8, 0], [1, 0], [2, 0], [4, 0], [5, 0], [6, 0], [7, 0], [8, 0], [8, 0], [9, 0], [8, 1], [3, 0], [8, 5]\n",
            "[1, 2], [2, 3], [3, 3], [4, 3], [6, 1], [6, 2], [3, 1]\n",
            "[1, 0], [2, 0], [4, 0], [6, 0], [6, 0], [6, 1], [1, 1], [2, 1], [3, 1], [2, 3], [1, 3]\n",
            "[1, 1], [2, 1], [3, 1], [3, 4], [5, 1], [6, 1], [5, 0], [2, 0], [4, 1]\n",
            "[2, 0], [2, 1], [1, 0], [1, 1], [1, 4], [3, 1], [4, 1], [7, 1], [6, 1]\n",
            "[1, 2], [2, 2], [3, 1], [3, 2], [4, 1], [4, 2], [5, 1], [5, 2], [6, 3], [6, 4], [3, 4], [2, 4]\n",
            "[6, 0], [6, 2], [6, 5], [7, 3], [7, 1], [7, 2], [7, 0], [4, 0], [5, 0], [4, 2], [4, 4], [4, 5], [1, 5], [1, 6], [1, 7], [1, 8]\n",
            "[5, 0], [4, 0], [4, 0], [4, 1], [4, 2], [1, 0], [3, 3]\n",
            "[1, 0], [2, 2], [3, 2], [5, 2], [6, 2], [5, 1], [1, 1], [5, 1], [1, 2]\n",
            "[1, 0], [2, 0], [4, 0], [6, 0]\n",
            "[4, 0], [4, 1], [5, 0], [6, 4]\n",
            "[1, 3], [2, 2], [2, 4], [5, 2], [6, 3], [8, 3], [8, 4], [9, 3], [9, 2], [3, 4], [3, 5], [3, 6]\n",
            "[3, 3], [4, 3], [5, 3], [6, 3], [6, 3], [1, 3]\n",
            "[1, 8], [2, 8], [3, 8], [5, 8], [7, 8], [8, 8], [9, 8], [8, 7], [8, 8], [5, 7], [4, 6], [3, 7], [2, 7], [1, 7], [1, 8], [4, 2], [6, 4], [9, 6], [9, 7], [9, 5], [5, 2], [6, 2]\n",
            "[1, 5], [2, 5], [3, 5], [6, 5]\n",
            "[6, 0], [3, 0], [6, 0], [7, 0], [8, 0], [9, 0], [14, 0], [17, 0], [2, 1], [19, 1], [1, 2], [3, 2], [4, 2], [6, 2], [5, 2], [7, 2], [8, 2], [9, 2], [11, 2], [12, 2]\n",
            "[3, 0], [7, 0], [8, 0], [10, 0], [11, 0], [12, 0], [13, 0], [14, 0], [15, 0], [16, 0], [1, 0], [2, 0], [19, 0], [18, 0], [17, 0], [6, 0], [5, 0], [4, 1]\n",
            "[14, 2], [14, 2], [13, 2], [11, 2], [12, 2], [12, 3], [8, 2], [12, 2], [13, 2], [10, 2], [8, 2], [5, 2], [3, 2], [2, 2], [1, 2], [6, 2], [7, 6], [12, 5], [14, 5]\n",
            "[1, 3], [2, 3], [3, 3], [4, 3], [5, 3], [6, 4], [6, 0], [2, 0], [4, 0]\n",
            "[7, 1], [13, 1], [15, 4], [15, 6], [13, 7]\n",
            "[2, 1], [5, 1], [1, 2], [1, 2], [1, 3], [1, 4]\n",
            "[3, 0], [4, 0], [6, 0], [5, 3], [1, 1]\n",
            "[1, 2], [5, 4], [5, 5], [5, 6], [1, 0], [2, 0], [3, 0], [4, 0], [5, 0], [6, 0], [1, 3], [3, 2], [2, 2], [5, 2], [6, 2], [6, 0], [5, 0], [4, 0], [6, 0], [3, 2], [2, 2], [5, 2], [2, 2], [6, 0], [3, 1], [2, 1], [1, 1], [2, 2], [6, 1], [4, 1], [6, 1], [3, 2], [5, 2], [2, 1], [1, 2], [2, 2], [1, 2], [6, 2], [2, 2], [4, 1], [4, 1], [4, 2]\n",
            "[6, 0], [2, 1], [4, 1], [8, 1], [3, 2], [5, 2], [11, 2], [9, 5], [9, 6], [5, 6]\n",
            "[2, 0], [3, 0], [3, 1]\n",
            "[3, 2], [6, 2], [9, 2], [11, 4], [7, 3], [7, 4], [4, 3], [4, 4], [3, 3], [2, 3], [2, 4], [10, 3], [10, 4], [2, 6], [7, 6], [11, 6]\n",
            "[1, 2], [1, 3], [3, 1], [3, 2], [3, 3], [4, 2]\n",
            "[1, 1], [2, 1]\n",
            "[1, 0], [1, 1], [1, 8], [1, 9], [2, 2], [2, 3], [3, 2], [3, 3], [4, 2], [4, 3], [5, 2], [5, 3], [6, 3], [7, 2], [7, 3], [8, 2], [8, 3], [9, 2], [9, 3], [10, 3], [11, 2], [11, 3], [12, 2], [12, 3], [13, 3], [14, 3], [14, 2], [14, 3], [15, 2], [15, 3], [16, 2], [16, 3], [17, 2], [17, 3], [3, 6], [3, 7], [4, 6], [4, 7], [5, 7], [6, 7], [7, 6], [7, 7], [9, 7], [11, 7], [12, 7], [13, 7], [13, 6], [13, 7], [14, 7]\n",
            "[12, 0], [11, 0], [10, 0], [7, 0]\n",
            "[2, 1], [4, 1], [7, 1], [1, 3], [1, 4], [3, 3], [3, 4], [2, 4], [2, 4], [4, 3], [5, 3]\n",
            "[2, 0], [5, 0], [4, 0], [8, 0], [12, 0], [13, 0], [14, 0], [16, 0], [15, 0], [7, 0], [19, 0], [18, 0], [17, 0], [13, 6], [10, 0], [9, 1], [6, 0], [11, 4], [3, 0], [3, 1], [1, 4], [14, 6], [5, 9], [2, 5]\n",
            "[1, 1], [2, 1], [2, 2], [3, 1], [3, 2], [5, 1], [5, 2], [5, 3], [5, 4], [6, 2], [6, 1], [6, 2], [6, 3], [5, 2]\n",
            "[7, 1], [8, 1], [2, 0], [8, 0], [8, 4], [7, 4], [5, 2], [9, 2], [9, 2], [9, 3], [3, 5], [4, 5], [4, 5], [4, 6], [3, 6], [5, 6], [5, 5], [6, 5], [5, 6], [6, 6], [7, 4], [7, 5]\n",
            "[1, 3], [4, 2], [4, 3], [6, 3], [6, 4], [6, 2], [1, 1], [1, 0], [1, 1], [1, 2], [3, 3], [2, 3], [5, 3], [6, 0], [1, 3], [4, 0]\n",
            "[1, 0], [2, 1], [3, 1], [4, 1], [5, 1], [6, 1], [7, 1], [8, 1], [9, 1], [3, 3]\n",
            "[1, 2], [4, 2], [5, 2], [6, 2], [7, 2], [2, 2], [3, 2], [3, 3], [2, 3], [1, 4], [4, 4], [7, 4]\n"
          ]
        }
      ],
      "source": [
        "def format_label(examples):\n",
        "    target_texts = [\n",
        "        \", \".join(str(step) for step in steps) for steps in examples[\"steps\"]\n",
        "    ]\n",
        "\n",
        "    for target in target_texts:\n",
        "        print(target)\n",
        "\n",
        "format_label(dataset.select(range(50)))"
      ]
    },
    {
      "cell_type": "code",
      "execution_count": 23,
      "metadata": {},
      "outputs": [],
      "source": [
        "def preprocess_function(examples):\n",
        "    # Process input_text for batch\n",
        "    input_texts = [\n",
        "        \"Align DNA sequences:\\n\" + \"\\n\".join(\n",
        "            f\"{i}: {seq}\" for i, seq in enumerate(start)\n",
        "        ) for start in examples[\"start\"]\n",
        "    ]\n",
        "\n",
        "    # Process target_text for batch\n",
        "    target_texts = [\n",
        "        \", \".join(str(step) for step in steps) for steps in examples[\"steps\"]\n",
        "    ]\n",
        "\n",
        "    # Tokenize inputs and targets\n",
        "    model_inputs = tokenizer(\n",
        "        input_texts, padding=\"longest\", truncation=True, max_length=512\n",
        "    )\n",
        "    labels = tokenizer(\n",
        "        target_texts, padding=\"longest\", truncation=True, max_length=128\n",
        "    )\n",
        "\n",
        "    # Add labels to model_inputs\n",
        "    model_inputs[\"labels\"] = labels[\"input_ids\"]\n",
        "\n",
        "    return model_inputs\n"
      ]
    },
    {
      "cell_type": "code",
      "execution_count": 24,
      "metadata": {},
      "outputs": [
        {
          "data": {
            "application/vnd.jupyter.widget-view+json": {
              "model_id": "ca7779a56ed644b38e03fe6e4540eed8",
              "version_major": 2,
              "version_minor": 0
            },
            "text/plain": [
              "Map:   0%|          | 0/399997 [00:00<?, ? examples/s]"
            ]
          },
          "metadata": {},
          "output_type": "display_data"
        }
      ],
      "source": [
        "dataset = dataset.map(preprocess_function, batched=True)"
      ]
    },
    {
      "cell_type": "code",
      "execution_count": 25,
      "metadata": {},
      "outputs": [
        {
          "data": {
            "application/vnd.jupyter.widget-view+json": {
              "model_id": "9adfc34915954683b66778887a762d6b",
              "version_major": 2,
              "version_minor": 0
            },
            "text/plain": [
              "Saving the dataset (0/3 shards):   0%|          | 0/399997 [00:00<?, ? examples/s]"
            ]
          },
          "metadata": {},
          "output_type": "display_data"
        }
      ],
      "source": [
        "dataset.save_to_disk('preprocessed_dataset')"
      ]
    },
    {
      "cell_type": "code",
      "execution_count": 4,
      "metadata": {},
      "outputs": [],
      "source": [
        "from datasets import load_from_disk\n",
        "dataset = load_from_disk('preprocessed_dataset')\n",
        "subset_dataset = dataset.shuffle(seed=42).select(range(100000))\n",
        "\n",
        "train_test_split = dataset.train_test_split(test_size=5000, seed=42)\n",
        "train_dataset = train_test_split[\"train\"]\n",
        "test_dataset = train_test_split[\"test\"]"
      ]
    },
    {
      "cell_type": "code",
      "execution_count": 4,
      "metadata": {},
      "outputs": [
        {
          "name": "stderr",
          "output_type": "stream",
          "text": [
            "c:\\Users\\dante\\AppData\\Local\\Programs\\Python\\Python312\\Lib\\site-packages\\transformers\\training_args.py:1594: FutureWarning: `evaluation_strategy` is deprecated and will be removed in version 4.46 of 🤗 Transformers. Use `eval_strategy` instead\n",
            "  warnings.warn(\n",
            "C:\\Users\\dante\\AppData\\Local\\Temp\\ipykernel_16072\\2371271249.py:29: FutureWarning: `tokenizer` is deprecated and will be removed in version 5.0.0 for `Seq2SeqTrainer.__init__`. Use `processing_class` instead.\n",
            "  trainer = Seq2SeqTrainer(\n"
          ]
        }
      ],
      "source": [
        "import torch\n",
        "from transformers import Seq2SeqTrainingArguments, Seq2SeqTrainer, DataCollatorForSeq2Seq, AutoTokenizer\n",
        "\n",
        "# Define the data collator for padding sequences dynamically\n",
        "data_collator = DataCollatorForSeq2Seq(tokenizer=tokenizer, model=model)\n",
        "\n",
        "# Define training arguments\n",
        "training_args = Seq2SeqTrainingArguments(\n",
        "    output_dir=\"./t5-dna-align\",      # Save model here\n",
        "    \n",
        "    logging_dir=\"./logs\",             # TensorBoard log directory\n",
        "    logging_strategy=\"steps\",         # Log after every few steps\n",
        "    logging_steps=50,                 # Log every 50 steps\n",
        "    report_to=\"tensorboard\",          # Report logs to TensorBoard\n",
        "\n",
        "    evaluation_strategy=\"steps\",\n",
        "    eval_steps=200,  # Evaluate every 100 steps\n",
        "\n",
        "    per_device_train_batch_size=50,   # Adjust based on GPU memory\n",
        "    per_device_eval_batch_size=50,\n",
        "    learning_rate=3e-5,               # Adjust based on experiments\n",
        "    weight_decay=0.01,                # L2 regularization\n",
        "    num_train_epochs=3,               # Number of training epochs\n",
        "    save_total_limit=2,               # Keep last 2 checkpoints\n",
        "    predict_with_generate=True,       # Important for seq2seq models\n",
        ")\n",
        "\n",
        "# Initialize Trainer\n",
        "trainer = Seq2SeqTrainer(\n",
        "    model=model,\n",
        "    args=training_args,\n",
        "    train_dataset=train_test_split[\"train\"],\n",
        "    eval_dataset=train_test_split[\"test\"],\n",
        "    tokenizer=tokenizer,\n",
        "    data_collator=data_collator,\n",
        ")"
      ]
    },
    {
      "cell_type": "code",
      "execution_count": 5,
      "metadata": {},
      "outputs": [
        {
          "name": "stderr",
          "output_type": "stream",
          "text": [
            "Passing a tuple of `past_key_values` is deprecated and will be removed in Transformers v4.48.0. You should pass an instance of `EncoderDecoderCache` instead, e.g. `past_key_values=EncoderDecoderCache.from_legacy_cache(past_key_values)`.\n"
          ]
        },
        {
          "data": {
            "text/html": [
              "\n",
              "    <div>\n",
              "      \n",
              "      <progress value='5856' max='23700' style='width:300px; height:20px; vertical-align: middle;'></progress>\n",
              "      [ 5856/23700 39:54 < 2:01:38, 2.44 it/s, Epoch 0.74/3]\n",
              "    </div>\n",
              "    <table border=\"1\" class=\"dataframe\">\n",
              "  <thead>\n",
              " <tr style=\"text-align: left;\">\n",
              "      <th>Step</th>\n",
              "      <th>Training Loss</th>\n",
              "      <th>Validation Loss</th>\n",
              "    </tr>\n",
              "  </thead>\n",
              "  <tbody>\n",
              "    <tr>\n",
              "      <td>200</td>\n",
              "      <td>2.119600</td>\n",
              "      <td>1.535904</td>\n",
              "    </tr>\n",
              "    <tr>\n",
              "      <td>400</td>\n",
              "      <td>0.691300</td>\n",
              "      <td>0.421709</td>\n",
              "    </tr>\n",
              "    <tr>\n",
              "      <td>600</td>\n",
              "      <td>0.379700</td>\n",
              "      <td>0.322983</td>\n",
              "    </tr>\n",
              "    <tr>\n",
              "      <td>800</td>\n",
              "      <td>0.335800</td>\n",
              "      <td>0.305460</td>\n",
              "    </tr>\n",
              "    <tr>\n",
              "      <td>1000</td>\n",
              "      <td>0.326500</td>\n",
              "      <td>0.298106</td>\n",
              "    </tr>\n",
              "    <tr>\n",
              "      <td>1200</td>\n",
              "      <td>0.316300</td>\n",
              "      <td>0.296329</td>\n",
              "    </tr>\n",
              "    <tr>\n",
              "      <td>1400</td>\n",
              "      <td>0.315400</td>\n",
              "      <td>0.290162</td>\n",
              "    </tr>\n",
              "    <tr>\n",
              "      <td>1600</td>\n",
              "      <td>0.311300</td>\n",
              "      <td>0.287208</td>\n",
              "    </tr>\n",
              "    <tr>\n",
              "      <td>1800</td>\n",
              "      <td>0.309900</td>\n",
              "      <td>0.284642</td>\n",
              "    </tr>\n",
              "    <tr>\n",
              "      <td>2000</td>\n",
              "      <td>0.290600</td>\n",
              "      <td>0.284371</td>\n",
              "    </tr>\n",
              "    <tr>\n",
              "      <td>2200</td>\n",
              "      <td>0.300900</td>\n",
              "      <td>0.281433</td>\n",
              "    </tr>\n",
              "    <tr>\n",
              "      <td>2400</td>\n",
              "      <td>0.296800</td>\n",
              "      <td>0.280736</td>\n",
              "    </tr>\n",
              "    <tr>\n",
              "      <td>2600</td>\n",
              "      <td>0.292800</td>\n",
              "      <td>0.281074</td>\n",
              "    </tr>\n",
              "    <tr>\n",
              "      <td>2800</td>\n",
              "      <td>0.292700</td>\n",
              "      <td>0.280737</td>\n",
              "    </tr>\n",
              "    <tr>\n",
              "      <td>3000</td>\n",
              "      <td>0.291900</td>\n",
              "      <td>0.278103</td>\n",
              "    </tr>\n",
              "    <tr>\n",
              "      <td>3200</td>\n",
              "      <td>0.293500</td>\n",
              "      <td>0.276563</td>\n",
              "    </tr>\n",
              "    <tr>\n",
              "      <td>3400</td>\n",
              "      <td>0.288500</td>\n",
              "      <td>0.277758</td>\n",
              "    </tr>\n",
              "    <tr>\n",
              "      <td>3600</td>\n",
              "      <td>0.283500</td>\n",
              "      <td>0.277848</td>\n",
              "    </tr>\n",
              "    <tr>\n",
              "      <td>3800</td>\n",
              "      <td>0.289700</td>\n",
              "      <td>0.277171</td>\n",
              "    </tr>\n",
              "    <tr>\n",
              "      <td>4000</td>\n",
              "      <td>0.283100</td>\n",
              "      <td>0.275089</td>\n",
              "    </tr>\n",
              "    <tr>\n",
              "      <td>4200</td>\n",
              "      <td>0.286800</td>\n",
              "      <td>0.273940</td>\n",
              "    </tr>\n",
              "    <tr>\n",
              "      <td>4400</td>\n",
              "      <td>0.283500</td>\n",
              "      <td>0.274248</td>\n",
              "    </tr>\n",
              "    <tr>\n",
              "      <td>4600</td>\n",
              "      <td>0.277200</td>\n",
              "      <td>0.273052</td>\n",
              "    </tr>\n",
              "    <tr>\n",
              "      <td>4800</td>\n",
              "      <td>0.278700</td>\n",
              "      <td>0.273445</td>\n",
              "    </tr>\n",
              "    <tr>\n",
              "      <td>5000</td>\n",
              "      <td>0.274600</td>\n",
              "      <td>0.274931</td>\n",
              "    </tr>\n",
              "    <tr>\n",
              "      <td>5200</td>\n",
              "      <td>0.287500</td>\n",
              "      <td>0.272292</td>\n",
              "    </tr>\n",
              "    <tr>\n",
              "      <td>5400</td>\n",
              "      <td>0.276200</td>\n",
              "      <td>0.272399</td>\n",
              "    </tr>\n",
              "    <tr>\n",
              "      <td>5600</td>\n",
              "      <td>0.284600</td>\n",
              "      <td>0.270832</td>\n",
              "    </tr>\n",
              "    <tr>\n",
              "      <td>5800</td>\n",
              "      <td>0.276300</td>\n",
              "      <td>0.272312</td>\n",
              "    </tr>\n",
              "  </tbody>\n",
              "</table><p>"
            ],
            "text/plain": [
              "<IPython.core.display.HTML object>"
            ]
          },
          "metadata": {},
          "output_type": "display_data"
        },
        {
          "ename": "",
          "evalue": "",
          "output_type": "error",
          "traceback": [
            "\u001b[1;31mThe Kernel crashed while executing code in the current cell or a previous cell. \n",
            "\u001b[1;31mPlease review the code in the cell(s) to identify a possible cause of the failure. \n",
            "\u001b[1;31mClick <a href='https://aka.ms/vscodeJupyterKernelCrash'>here</a> for more info. \n",
            "\u001b[1;31mView Jupyter <a href='command:jupyter.viewOutput'>log</a> for further details."
          ]
        }
      ],
      "source": [
        "trainer.train()"
      ]
    },
    {
      "cell_type": "code",
      "execution_count": null,
      "metadata": {},
      "outputs": [],
      "source": [
        "\n",
        "# Train the model\n",
        "trainer.train()"
      ]
    },
    {
      "cell_type": "code",
      "execution_count": 1,
      "metadata": {},
      "outputs": [
        {
          "name": "stderr",
          "output_type": "stream",
          "text": [
            "You set `add_prefix_space`. The tokenizer needs to be converted from the slow tokenizers\n"
          ]
        }
      ],
      "source": [
        "from transformers import T5ForConditionalGeneration, AutoTokenizer\n",
        "\n",
        "# Path to the checkpoint folder (e.g., after a saved training run)\n",
        "checkpoint_path = \"./t5-dna-align/checkpoint-5500\"  # Change to your actual checkpoint path\n",
        "\n",
        "# Load model from checkpoint\n",
        "model = T5ForConditionalGeneration.from_pretrained(checkpoint_path)\n",
        "\n",
        "# Load tokenizer (should match the model)\n",
        "tokenizer = AutoTokenizer.from_pretrained(checkpoint_path)\n"
      ]
    },
    {
      "cell_type": "code",
      "execution_count": 2,
      "metadata": {},
      "outputs": [],
      "source": [
        "from datasets import load_from_disk\n",
        "dataset = load_from_disk('preprocessed_dataset')"
      ]
    },
    {
      "cell_type": "code",
      "execution_count": 3,
      "metadata": {},
      "outputs": [],
      "source": [
        "import copy\n",
        "import matplotlib.pyplot as plt\n",
        "import numpy as np\n",
        "import seaborn as sns\n",
        "import pandas as pd\n",
        "import copy\n",
        "\n",
        "DICT_SYMBOLS = {\n",
        "    'A': 1,\n",
        "    'T': 2,\n",
        "    'C': 3,\n",
        "    'G': 4}\n",
        "\n",
        "class Puzzle:\n",
        "    def __init__(self, data):\n",
        "        self.start = list(data[\"start\"])\n",
        "        self.moves = copy.deepcopy(data.get(\"moves\"))\n",
        "        self.steps = copy.deepcopy(data.get(\"steps\"))\n",
        "        self.solution = list(data[\"solution\"])\n",
        "        self.score = data[\"score\"]\n",
        "        self.accepted_pair = data[\"accepted_pair\"]\n",
        "\n",
        "        self.padded_start = self.build_puzzle_to_end(self.start)\n",
        "        self.padded_solution = self.build_puzzle_to_end(self.solution)\n",
        "\n",
        "    def build_puzzle_to_end(self, puzzle):\n",
        "        \"\"\"Pad each row with '-' to match the longest row for visualization.\"\"\"\n",
        "        max_len = max(len(row) for row in puzzle)\n",
        "        return [row.ljust(max_len, '-') for row in puzzle]\n",
        "\n",
        "    def plot_puzzle(self, puzzle, title):\n",
        "        puzzle = self.build_puzzle_to_end(puzzle)\n",
        "        num_puzzle = np.array([[DICT_SYMBOLS.get(char, 0) for char in row] for row in puzzle])\n",
        "        rot_num_puzzle = np.rot90(num_puzzle, 1)\n",
        "        puzzle_array = np.array([list(row) for row in puzzle])\n",
        "        rot_labels = np.rot90(puzzle_array, 1)\n",
        "\n",
        "        plt.figure(figsize=(8, 6))\n",
        "        sns.heatmap(rot_num_puzzle, annot=rot_labels, fmt=\"\", cmap=\"Pastel1_r\", cbar=False)\n",
        "        plt.title(title)\n",
        "        plt.axis(\"off\")\n",
        "        plt.show()\n",
        "\n",
        "    def gearbox_score(self, puzzle, bonus=1.15):\n",
        "        consensus = self.accepted_pair\n",
        "        score = 0\n",
        "        for col_ind in range(len(puzzle[0])):\n",
        "            col_bonus = True\n",
        "            col_tot = 0\n",
        "            column_chars = [row[col_ind] for row in puzzle]\n",
        "            for char in column_chars:\n",
        "                if char == \"-\":\n",
        "                    col_bonus = False\n",
        "                    continue\n",
        "                if char in consensus[col_ind]:\n",
        "                    col_tot += 1\n",
        "                else:\n",
        "                    col_bonus = False\n",
        "            column_score = col_tot * bonus if col_bonus else col_tot\n",
        "            score += column_score\n",
        "        # print(f\"Total Gearbox Score: {score}\")\n",
        "        return score\n",
        "\n",
        "    def _apply_step_to_puzzle(self, puzzle, step):\n",
        "        \"\"\"Apply a single step to the puzzle.\"\"\"\n",
        "        new_puzzle = puzzle.copy()\n",
        "        row_index = step[0] - 1\n",
        "        col_index = step[1]\n",
        "        if row_index < 0 or row_index >= len(new_puzzle):\n",
        "            return new_puzzle\n",
        "        row_str = new_puzzle[row_index]\n",
        "        if col_index < 0 or col_index > len(row_str):\n",
        "            return new_puzzle\n",
        "        new_row = row_str[:col_index] + '-' + row_str[col_index:]\n",
        "        new_row = new_row[:len(row_str)]\n",
        "        new_puzzle[row_index] = new_row\n",
        "        return new_puzzle\n",
        "\n",
        "    def apply_all_steps(self):\n",
        "        \"\"\"Apply all steps on a copy of the puzzle and plot states.\"\"\"\n",
        "        current_puzzle = list(self.start)\n",
        "        updated_puzzles = []\n",
        "        scores = []\n",
        "\n",
        "        for step in self.steps:\n",
        "            current_puzzle = self._apply_step_to_puzzle(current_puzzle, step)\n",
        "            padded_current = self.build_puzzle_to_end(current_puzzle)\n",
        "            score = self.gearbox_score(padded_current)\n",
        "            updated_puzzles.append(padded_current)\n",
        "            scores.append(score)\n",
        "\n",
        "        n_steps = len(updated_puzzles)\n",
        "        # fig, axes = plt.subplots(1, n_steps, figsize=(4 * n_steps, 6))\n",
        "        if n_steps == 1:\n",
        "            axes = [axes]\n",
        "        for idx, (puzzle_state, score) in enumerate(zip(updated_puzzles, scores)):\n",
        "            num_puzzle = np.array([[DICT_SYMBOLS.get(char, 0) for char in row] for row in puzzle_state])\n",
        "            rot_num_puzzle = np.rot90(num_puzzle, 1)\n",
        "            puzzle_array = np.array([list(row) for row in puzzle_state])\n",
        "            rot_labels = np.rot90(puzzle_array, 1)\n",
        "            # ax = axes[idx]\n",
        "            # sns.heatmap(rot_num_puzzle, annot=rot_labels, fmt=\"\", cmap=\"Pastel1_r\", cbar=False, ax=ax)\n",
        "            # ax.set_title(f\"Step {idx+1}\\nScore: {score}\")\n",
        "            # ax.axis(\"off\")\n",
        "            \n",
        "        # plt.tight_layout()\n",
        "        # plt.show()\n",
        "        return current_puzzle, scores"
      ]
    },
    {
      "cell_type": "code",
      "execution_count": 4,
      "metadata": {},
      "outputs": [
        {
          "name": "stderr",
          "output_type": "stream",
          "text": [
            "c:\\Users\\dante\\AppData\\Local\\Programs\\Python\\Python312\\Lib\\site-packages\\transformers\\generation\\configuration_utils.py:629: UserWarning: `do_sample` is set to `False`. However, `temperature` is set to `0` -- this flag is only used in sample-based generation modes. You should set `do_sample=True` or unset `temperature`.\n",
            "  warnings.warn(\n"
          ]
        }
      ],
      "source": [
        "import re\n",
        "import ast\n",
        "\n",
        "def generate_steps(start):\n",
        "    input_text = \"Align DNA sequences:\\n\" + \"\\n\".join(f\"{i}: {seq}\" for i, seq in enumerate(start))\n",
        "    inputs = tokenizer(input_text, return_tensors=\"pt\", padding=True, truncation=True)\n",
        "\n",
        "    # Generate output\n",
        "    output_ids = model.generate(inputs[\"input_ids\"], temperature=0, max_length=512)\n",
        "    output_text = tokenizer.decode(output_ids[0], skip_special_tokens=True)\n",
        "\n",
        "    # Remove the trailing incomplete part\n",
        "    s = output_text.rstrip(\", '[\")  # Remove unfinished elements at the end\n",
        "    # Use regex to extract all tuples\n",
        "    matches = re.findall(r\"\\[(\\d+),\\s*(\\d+)\\]\", s)\n",
        "\n",
        "    # Convert matches into a list of tuples\n",
        "    tuple_list = [[int(x), int(y)] for x, y in matches]\n",
        "\n",
        "    # Output the parsed list\n",
        "    return tuple_list\n",
        "\n",
        "steps = generate_steps(dataset[0]['start'])"
      ]
    },
    {
      "cell_type": "code",
      "execution_count": 13,
      "metadata": {},
      "outputs": [
        {
          "name": "stderr",
          "output_type": "stream",
          "text": [
            "c:\\Users\\dante\\AppData\\Local\\Programs\\Python\\Python312\\Lib\\site-packages\\transformers\\generation\\configuration_utils.py:629: UserWarning: `do_sample` is set to `False`. However, `temperature` is set to `0` -- this flag is only used in sample-based generation modes. You should set `do_sample=True` or unset `temperature`.\n",
            "  warnings.warn(\n"
          ]
        },
        {
          "name": "stdout",
          "output_type": "stream",
          "text": [
            "max score: 49.65, ref_score: 57.0, best_steps: [[1, 0], [2, 0], [3, 0], [4, 0], [5, 0], [6, 0], [7, 0], [8, 0], [9, 0]]\n",
            "max score: 36.099999999999994, ref_score: 32.0, best_steps: [[1, 0], [2, 0], [3, 0], [4, 0], [5, 0], [6, 0], [7, 0], [1, 4], [2, 4], [3, 4], [4, 4], [5, 4], [6, 4]]\n",
            "max score: 14, ref_score: 17.0, best_steps: []\n",
            "max score: 19, ref_score: 17.0, best_steps: [[1, 0], [2, 0], [3, 0], [4, 0], [5, 0], [6, 0], [1, 3], [2, 3], [3, 3], [4, 3], [5, 3]]\n",
            "max score: 57.15, ref_score: 62.0, best_steps: [[1, 0], [2, 0], [3, 0], [4, 0], [5, 0], [6, 0]]\n",
            "max score: 29.099999999999998, ref_score: 32.0, best_steps: [[1, 0], [2, 0], [3, 0], [4, 0], [5, 0], [6, 0], [7, 0], [1, 5], [2, 5], [3, 5], [4, 5], [5, 5], [6, 5]]\n",
            "max score: 30, ref_score: 40.0, best_steps: [[1, 0], [2, 0], [3, 0], [4, 0], [5, 0], [6, 0], [7, 0], [1, 5], [2, 5], [3, 5], [4, 5], [5, 5], [6, 5]]\n",
            "max score: 16, ref_score: 16.0, best_steps: [[1, 0], [2, 0], [3, 0]]\n",
            "max score: 13, ref_score: 12.0, best_steps: [[1, 0], [2, 0], [3, 0], [4, 0], [5, 0], [6, 0], [1, 2]]\n",
            "max score: 10, ref_score: 13.0, best_steps: [[1, 0], [2, 0], [3, 0], [4, 0]]\n",
            "max score: 12, ref_score: 11.0, best_steps: [[1, 0], [2, 0], [3, 0], [4, 0], [5, 0], [6, 0], [1, 3]]\n",
            "max score: 17.9, ref_score: 20.0, best_steps: [[1, 0], [2, 0], [3, 0], [4, 0], [5, 0], [6, 0], [1, 3], [2, 3], [3, 3], [4, 3], [5, 3], [6, 3]]\n",
            "max score: 19, ref_score: 20.0, best_steps: [[1, 0], [2, 0], [3, 0], [4, 0], [5, 0], [6, 0], [1, 3], [2, 3], [3, 3], [4, 3], [5, 3]]\n",
            "max score: 11.899999999999999, ref_score: 14.0, best_steps: [[1, 0], [2, 0], [3, 0], [4, 0], [5, 0]]\n",
            "max score: 45.24999999999999, ref_score: 42.0, best_steps: [[1, 0], [2, 0], [3, 0], [4, 0], [5, 0], [6, 0]]\n",
            "max score: 57.3, ref_score: 41.0, best_steps: [[1, 0], [2, 0], [3, 0], [4, 0], [5, 0], [6, 0], [7, 0], [8, 0], [9, 0], [10, 0], [11, 0]]\n",
            "max score: 19.9, ref_score: 17.0, best_steps: [[1, 0], [2, 0], [3, 0], [4, 0], [5, 0]]\n",
            "max score: 16.9, ref_score: 17.0, best_steps: [[1, 0], [2, 0], [3, 0], [4, 0], [5, 0]]\n",
            "max score: 34, ref_score: 44.0, best_steps: []\n",
            "max score: 16.9, ref_score: 14.0, best_steps: [[1, 0], [2, 0], [3, 0], [4, 0], [5, 0], [6, 0], [1, 2], [2, 2], [3, 2], [4, 2], [5, 2], [6, 2]]\n",
            "max score: 14.899999999999999, ref_score: 18.0, best_steps: [[1, 0], [2, 0], [3, 0], [4, 0], [5, 0], [6, 0], [1, 2], [2, 2]]\n",
            "max score: 13, ref_score: 10.0, best_steps: [[1, 0], [2, 0], [3, 0], [4, 0], [5, 0], [6, 0], [1, 1], [2, 1], [3, 1], [4, 1], [5, 1], [6, 1], [1, 1]]\n",
            "max score: 12, ref_score: 15.0, best_steps: [[1, 0], [2, 0]]\n",
            "max score: 28.699999999999996, ref_score: 32.0, best_steps: [[1, 0], [2, 0], [3, 0], [4, 0], [5, 0], [6, 0], [1, 3], [2, 3], [3, 3], [4, 3], [5, 3]]\n",
            "max score: 89.1, ref_score: 88.0, best_steps: [[1, 0], [2, 0], [3, 0], [4, 0], [5, 0], [6, 0], [7, 0], [8, 0], [9, 0], [10, 0], [11, 0], [12, 0], [13, 0], [14, 0], [15, 0], [16, 0], [17, 0]]\n",
            "max score: 18, ref_score: 18.0, best_steps: [[1, 0], [2, 0], [3, 0], [4, 0], [5, 0], [6, 0], [7, 0], [8, 0], [9, 0], [9, 1], [9, 2], [9, 3], [9, 4], [9, 5], [9, 6]]\n",
            "max score: 57.75, ref_score: 53.0, best_steps: [[1, 0], [2, 0], [3, 0], [4, 0], [5, 0], [6, 0], [7, 0], [8, 0]]\n",
            "max score: 66, ref_score: 83.0, best_steps: [[1, 0], [2, 0], [3, 0], [4, 0], [5, 0], [6, 0], [7, 0], [8, 0], [9, 0], [10, 0], [11, 0], [12, 0], [13, 0]]\n",
            "max score: 16, ref_score: 19.0, best_steps: [[1, 0], [2, 0]]\n",
            "max score: 151.64999999999998, ref_score: 151.0, best_steps: [[1, 0], [2, 0], [3, 0], [4, 0], [5, 0], [6, 0], [7, 0], [8, 0], [9, 0], [10, 0], [11, 0], [12, 0], [13, 0], [14, 0], [15, 0]]\n",
            "max score: 23.049999999999997, ref_score: 30.0, best_steps: [[1, 0]]\n",
            "max score: 38.65, ref_score: 37.0, best_steps: [[1, 0], [2, 0], [3, 0], [4, 0], [5, 0], [6, 0], [7, 0], [8, 0], [9, 0], [10, 0], [11, 0], [11, 1]]\n",
            "max score: 24, ref_score: 36.0, best_steps: [[1, 0], [2, 0], [3, 0], [4, 0], [5, 0]]\n",
            "max score: 17.9, ref_score: 17.0, best_steps: [[1, 0], [2, 0], [3, 0], [4, 0], [5, 0], [6, 0], [1, 2], [2, 2], [3, 2], [4, 2], [5, 2], [6, 2]]\n",
            "max score: 18, ref_score: 18.0, best_steps: [[1, 0], [2, 0], [3, 0], [4, 0]]\n",
            "max score: 24.049999999999997, ref_score: 23.0, best_steps: [[1, 0], [2, 0], [3, 0], [4, 0], [5, 0], [6, 0]]\n",
            "max score: 47.65, ref_score: 58.0, best_steps: []\n",
            "max score: 20.9, ref_score: 20.0, best_steps: [[1, 0], [2, 0], [3, 0], [4, 0], [5, 0], [6, 0], [1, 3], [2, 3], [3, 3], [4, 3]]\n",
            "max score: 73, ref_score: 86.0, best_steps: [[1, 0], [2, 0], [3, 0], [4, 0], [5, 0], [6, 0], [7, 0], [8, 0], [9, 0], [10, 0], [11, 0]]\n",
            "max score: 16.9, ref_score: 20.0, best_steps: [[1, 0], [2, 0], [3, 0], [4, 0], [5, 0], [6, 0], [1, 2], [2, 2], [3, 2], [4, 2], [5, 2], [6, 2]]\n",
            "max score: 20.9, ref_score: 13.0, best_steps: [[1, 0], [2, 0], [3, 0], [4, 0], [5, 0], [6, 0], [1, 3], [2, 3], [3, 3], [4, 3], [5, 3]]\n",
            "max score: 37.099999999999994, ref_score: 39.0, best_steps: [[1, 0], [2, 0], [3, 0], [4, 0], [5, 0], [6, 0]]\n",
            "max score: 19.9, ref_score: 20.0, best_steps: [[1, 0], [2, 0]]\n",
            "max score: 32, ref_score: 35.0, best_steps: [[1, 0], [2, 0], [3, 0], [4, 0], [5, 0], [6, 0], [7, 0], [8, 0], [9, 0], [10, 0], [11, 0], [11, 1], [11, 2]]\n",
            "max score: 25.9, ref_score: 28.0, best_steps: [[1, 0], [2, 0], [3, 0], [4, 0], [5, 0], [6, 0], [1, 4], [2, 4], [3, 4], [4, 4], [5, 4]]\n",
            "max score: 20.799999999999997, ref_score: 19.0, best_steps: [[1, 0], [2, 0], [3, 0], [4, 0], [5, 0], [6, 0], [1, 3], [2, 3], [3, 3], [4, 3], [5, 3]]\n",
            "max score: 25.7, ref_score: 28.0, best_steps: [[1, 0], [2, 0], [3, 0], [4, 0], [5, 0], [6, 0], [1, 3], [2, 3], [3, 3], [4, 3]]\n",
            "max score: 32.8, ref_score: 27.0, best_steps: [[1, 0], [2, 0], [3, 0], [4, 0], [5, 0], [6, 0], [1, 3], [2, 3], [3, 3], [4, 3], [5, 3]]\n",
            "max score: 28.699999999999996, ref_score: 24.0, best_steps: [[1, 0], [2, 0], [3, 0], [4, 0], [5, 0], [6, 0], [1, 3], [2, 3], [3, 3], [4, 3], [5, 3]]\n",
            "max score: 15.899999999999999, ref_score: 11.0, best_steps: [[1, 0], [2, 0], [3, 0], [4, 0], [5, 0], [6, 0], [1, 1], [2, 1], [3, 1], [4, 1], [5, 1], [6, 1]]\n",
            "max score: 22.9, ref_score: 20.0, best_steps: [[1, 0], [2, 0], [3, 0], [4, 0], [5, 0]]\n",
            "max score: 21, ref_score: 23.0, best_steps: [[1, 0], [2, 0], [3, 0], [4, 0]]\n",
            "max score: 17, ref_score: 22.0, best_steps: [[1, 0], [2, 0], [3, 0], [4, 0], [5, 0], [6, 0], [1, 3], [2, 3]]\n",
            "max score: 19.049999999999997, ref_score: 32.0, best_steps: [[1, 0], [2, 0], [3, 0], [4, 0], [5, 0], [6, 0]]\n",
            "max score: 15, ref_score: 14.0, best_steps: [[1, 0], [2, 0], [3, 0], [4, 0], [5, 0], [6, 0], [1, 3], [2, 3]]\n",
            "max score: 25.799999999999997, ref_score: 20.0, best_steps: [[1, 0], [2, 0], [3, 0], [4, 0], [5, 0]]\n",
            "max score: 76.25, ref_score: 64.0, best_steps: [[1, 0], [2, 0], [3, 0], [4, 0], [5, 0], [6, 0], [7, 0], [8, 0], [9, 0], [10, 0], [11, 0], [12, 0], [13, 0], [14, 0]]\n",
            "max score: 27, ref_score: 34.0, best_steps: [[1, 0], [2, 0], [3, 0], [4, 0], [5, 0], [6, 0], [7, 0], [1, 5], [2, 5], [3, 5], [4, 5], [5, 5]]\n",
            "max score: 19.9, ref_score: 21.0, best_steps: [[1, 0], [2, 0], [3, 0], [4, 0], [5, 0], [6, 0], [1, 3], [2, 3], [3, 3]]\n",
            "max score: 63.65, ref_score: 80.0, best_steps: [[1, 0]]\n",
            "max score: 68, ref_score: 95.0, best_steps: [[1, 0], [2, 0], [3, 0], [4, 0], [5, 0], [6, 0], [7, 0], [8, 0], [9, 0], [10, 0], [11, 0], [12, 0]]\n",
            "max score: 71, ref_score: 65.0, best_steps: [[1, 0], [2, 0], [3, 0], [4, 0], [5, 0], [6, 0], [7, 0], [8, 0], [9, 0], [10, 0], [11, 0], [12, 0], [13, 0], [14, 0]]\n",
            "max score: 12, ref_score: 15.0, best_steps: [[1, 0], [2, 0], [3, 0], [4, 0], [5, 0]]\n",
            "max score: 16.9, ref_score: 16.0, best_steps: [[1, 0], [2, 0], [3, 0], [4, 0], [5, 0]]\n",
            "max score: 30.049999999999997, ref_score: 22.0, best_steps: [[1, 0], [2, 0], [3, 0], [4, 0], [5, 0], [6, 0], [7, 0], [1, 4], [2, 4], [3, 4], [4, 4], [5, 4], [6, 4], [7, 4]]\n",
            "max score: 44.7, ref_score: 55.0, best_steps: [[1, 0], [2, 0], [3, 0], [4, 0], [5, 0], [6, 0], [7, 0], [8, 0]]\n",
            "max score: 29, ref_score: 30.0, best_steps: [[1, 0], [2, 0], [3, 0], [4, 0], [5, 0], [6, 0], [7, 0], [8, 0], [9, 0], [10, 0]]\n",
            "max score: 6, ref_score: 11.0, best_steps: [[1, 0], [2, 0], [3, 0], [4, 0], [5, 0]]\n",
            "max score: 20.9, ref_score: 20.0, best_steps: [[1, 0], [2, 0], [3, 0], [4, 0], [5, 0], [6, 0]]\n",
            "max score: 13.899999999999999, ref_score: 16.0, best_steps: [[1, 0], [2, 0], [3, 0], [4, 0], [5, 0], [6, 0], [1, 2], [2, 2], [3, 2], [4, 2], [5, 2]]\n",
            "max score: 21.099999999999998, ref_score: 29.0, best_steps: [[1, 0], [2, 0], [3, 0], [4, 0], [5, 0], [6, 0]]\n",
            "max score: 30.099999999999994, ref_score: 39.0, best_steps: [[1, 0], [2, 0], [3, 0], [4, 0], [5, 0], [6, 0]]\n",
            "max score: 79.85, ref_score: 90.0, best_steps: [[1, 0], [2, 0], [3, 0], [4, 0], [5, 0], [6, 0], [7, 0], [8, 0], [9, 0], [10, 0], [11, 0], [12, 0], [13, 0], [14, 0], [15, 0], [16, 0], [17, 0], [18, 0], [19, 0]]\n",
            "max score: 13.899999999999999, ref_score: 12.0, best_steps: [[1, 0], [2, 0], [3, 0], [4, 0], [5, 0], [6, 0], [1, 1], [2, 1], [3, 1], [4, 1], [5, 1]]\n",
            "max score: 12, ref_score: 8.0, best_steps: [[1, 0], [2, 0], [3, 0], [4, 0], [5, 0], [6, 0], [1, 1], [2, 1], [3, 1]]\n",
            "max score: 9, ref_score: 9.0, best_steps: [[1, 0], [2, 0], [3, 0], [4, 0], [5, 0], [6, 0]]\n",
            "max score: 137.7, ref_score: 150.0, best_steps: []\n",
            "max score: 28.799999999999997, ref_score: 32.0, best_steps: [[1, 0], [2, 0], [3, 0], [4, 0], [5, 0], [6, 0], [1, 3]]\n",
            "max score: 9, ref_score: 10.0, best_steps: [[1, 0]]\n",
            "max score: 20.9, ref_score: 24.0, best_steps: [[1, 0], [2, 0], [3, 0], [4, 0], [5, 0], [6, 0], [1, 3]]\n",
            "max score: 47.7, ref_score: 63.0, best_steps: [[1, 0], [2, 0], [3, 0], [4, 0], [5, 0], [6, 0], [7, 0], [8, 0]]\n",
            "max score: 21.9, ref_score: 20.0, best_steps: [[1, 0], [2, 0], [3, 0], [4, 0], [5, 0], [6, 0], [1, 3], [2, 3], [3, 3], [4, 3], [5, 3]]\n",
            "max score: 12, ref_score: 16.0, best_steps: [[1, 0], [2, 0], [3, 0], [4, 0]]\n",
            "max score: 11, ref_score: 12.0, best_steps: [[1, 0], [1, 1], [1, 2], [1, 3], [2, 0], [2, 1], [2, 2], [2, 3], [3, 0], [3, 1], [3, 2], [3, 3], [4, 0]]\n",
            "max score: 28.799999999999997, ref_score: 23.0, best_steps: [[1, 0], [2, 0], [3, 0], [4, 0], [5, 0], [6, 0], [1, 1], [2, 1], [3, 1], [4, 1], [5, 1]]\n",
            "max score: 122.69999999999999, ref_score: 153.0, best_steps: [[1, 0]]\n",
            "max score: 17, ref_score: 22.0, best_steps: [[1, 0], [2, 0], [3, 0]]\n",
            "max score: 26.799999999999997, ref_score: 25.0, best_steps: [[1, 0], [2, 0], [3, 0], [4, 0], [5, 0], [6, 0], [1, 1], [2, 1], [3, 1], [4, 1], [5, 1]]\n",
            "max score: 13, ref_score: 13.0, best_steps: [[1, 0], [2, 0], [3, 0], [4, 0]]\n",
            "max score: 9.899999999999999, ref_score: 12.0, best_steps: [[1, 0], [2, 0], [3, 0], [4, 0], [5, 0]]\n",
            "max score: 22, ref_score: 21.0, best_steps: [[1, 0], [2, 0], [3, 0], [4, 0], [5, 0], [6, 0], [1, 3], [2, 3]]\n",
            "max score: 62, ref_score: 74.0, best_steps: [[1, 0], [2, 0], [3, 0], [4, 0], [5, 0], [6, 0], [7, 0], [8, 0], [9, 0], [10, 0], [11, 0], [12, 0], [13, 0], [14, 0]]\n",
            "max score: 35.099999999999994, ref_score: 45.0, best_steps: [[1, 0], [2, 0], [3, 0], [4, 0], [5, 0], [6, 0]]\n",
            "max score: 48.35, ref_score: 61.0, best_steps: [[1, 0], [2, 0], [3, 0], [4, 0], [5, 0], [6, 0], [7, 0], [8, 0], [9, 0], [9, 1]]\n",
            "max score: 19.799999999999997, ref_score: 14.0, best_steps: [[1, 0], [2, 0], [3, 0], [4, 0], [5, 0], [6, 0], [1, 1], [2, 1], [3, 1], [4, 1], [5, 1]]\n",
            "max score: 21.799999999999997, ref_score: 22.0, best_steps: [[1, 0], [2, 0], [3, 0], [4, 0], [5, 0]]\n",
            "max score: 15.899999999999999, ref_score: 15.0, best_steps: [[1, 0], [2, 0], [3, 0], [4, 0], [5, 0], [6, 0], [1, 3], [2, 3]]\n",
            "max score: 13, ref_score: 14.0, best_steps: [[1, 0], [2, 0], [3, 0], [4, 0], [5, 0], [6, 0], [1, 2]]\n",
            "max score: 44.65, ref_score: 49.0, best_steps: [[1, 0], [2, 0], [3, 0], [4, 0], [5, 0], [6, 0], [7, 0], [8, 0], [9, 0], [10, 0]]\n",
            "max score: 45.35, ref_score: 52.0, best_steps: [[1, 0], [2, 0], [3, 0], [4, 0], [5, 0], [6, 0], [7, 0], [8, 0], [9, 0]]\n",
            "max score: 15.899999999999999, ref_score: 17.0, best_steps: [[1, 0], [2, 0], [3, 0], [4, 0], [5, 0], [6, 0], [1, 1], [2, 1], [3, 1], [4, 1], [5, 1]]\n",
            "max score: 13.899999999999999, ref_score: 11.0, best_steps: [[1, 0], [1, 1], [2, 0], [2, 1], [3, 0], [3, 1], [4, 0], [4, 1], [5, 0], [5, 1], [6, 0]]\n",
            "max score: 19.9, ref_score: 11.0, best_steps: [[1, 0], [2, 0], [3, 0], [4, 0], [5, 0], [6, 0], [1, 2], [2, 2], [3, 2], [4, 2], [5, 2], [6, 2]]\n",
            "max score: 18.9, ref_score: 17.0, best_steps: [[1, 0], [2, 0], [3, 0]]\n",
            "max score: 42.099999999999994, ref_score: 45.0, best_steps: [[1, 0], [2, 0], [3, 0], [4, 0], [5, 0], [6, 0], [7, 0], [1, 5]]\n",
            "max score: 27.049999999999997, ref_score: 42.0, best_steps: [[1, 0], [2, 0], [3, 0], [4, 0], [5, 0], [6, 0], [7, 0], [1, 5], [2, 5]]\n",
            "max score: 21.9, ref_score: 12.0, best_steps: [[1, 0], [2, 0], [3, 0], [4, 0], [5, 0], [6, 0], [1, 3], [2, 3], [3, 3], [4, 3], [5, 3]]\n",
            "max score: 106.1, ref_score: 107.0, best_steps: [[1, 0], [2, 0], [3, 0], [4, 0], [5, 0], [6, 0], [7, 0], [8, 0], [9, 0], [10, 0], [11, 0], [12, 0], [13, 0], [14, 0], [15, 0], [16, 0]]\n",
            "max score: 21, ref_score: 30.0, best_steps: [[1, 0], [2, 0], [3, 0]]\n",
            "max score: 57.65, ref_score: 78.0, best_steps: [[1, 0], [2, 0], [3, 0], [4, 0], [5, 0], [6, 0], [7, 0], [8, 0], [9, 0], [10, 0]]\n",
            "max score: 46.7, ref_score: 51.0, best_steps: [[1, 0], [2, 0], [3, 0], [4, 0], [5, 0], [6, 0], [7, 0], [8, 0]]\n",
            "max score: 21, ref_score: 16.0, best_steps: [[1, 0], [2, 0], [3, 0], [4, 0], [5, 0], [6, 0], [7, 0], [1, 5], [2, 5], [3, 5], [4, 5], [5, 5], [6, 5], [7, 5]]\n",
            "max score: 18.9, ref_score: 13.0, best_steps: [[1, 0], [2, 0], [3, 0], [4, 0], [5, 0], [6, 0]]\n",
            "max score: 44, ref_score: 54.0, best_steps: [[1, 0], [2, 0], [3, 0], [4, 0]]\n",
            "max score: 71, ref_score: 84.0, best_steps: []\n",
            "max score: 20.049999999999997, ref_score: 32.0, best_steps: [[1, 0], [2, 0], [3, 0], [4, 0], [5, 0], [6, 0]]\n",
            "max score: 62, ref_score: 60.0, best_steps: [[1, 0], [2, 0], [3, 0], [4, 0], [5, 0], [6, 0], [7, 0], [8, 0], [9, 0], [10, 0], [11, 0], [12, 0], [13, 0], [14, 0], [15, 0], [16, 0], [17, 0], [18, 0], [19, 0], [19, 1], [19, 2]]\n",
            "max score: 35.35, ref_score: 67.0, best_steps: []\n",
            "max score: 9, ref_score: 10.0, best_steps: [[1, 0], [2, 0], [3, 0]]\n",
            "max score: 11, ref_score: 10.0, best_steps: [[1, 0], [2, 0], [3, 0], [4, 0], [5, 0], [6, 0], [1, 2], [2, 2], [3, 2], [4, 2], [5, 2], [6, 2]]\n",
            "max score: 19.9, ref_score: 19.0, best_steps: [[1, 0], [2, 0], [3, 0], [4, 0], [5, 0], [6, 0], [1, 3], [2, 3], [3, 3], [4, 3], [5, 3], [6, 3], [1, 3]]\n",
            "max score: 59, ref_score: 70.0, best_steps: [[1, 0], [2, 0], [3, 0], [4, 0], [5, 0], [6, 0], [7, 0], [8, 0], [9, 0], [10, 0], [11, 0], [12, 0], [13, 0], [14, 0], [15, 0], [15, 1]]\n",
            "max score: 17.9, ref_score: 18.0, best_steps: [[1, 0], [2, 0], [3, 0], [4, 0], [5, 0], [6, 0], [1, 1], [2, 1], [3, 1], [4, 1], [5, 1]]\n",
            "max score: 20.9, ref_score: 22.0, best_steps: [[1, 0], [2, 0], [3, 0], [4, 0], [5, 0], [6, 0], [1, 3], [2, 3], [3, 3], [4, 3], [5, 3]]\n",
            "max score: 23.799999999999997, ref_score: 22.0, best_steps: [[1, 0], [2, 0], [3, 0], [4, 0], [5, 0], [6, 0], [1, 3], [2, 3], [3, 3], [4, 3], [5, 3]]\n",
            "max score: 53, ref_score: 66.0, best_steps: [[1, 0], [2, 0], [3, 0], [4, 0], [5, 0], [6, 0], [7, 0], [8, 0], [9, 0], [10, 0], [11, 0], [12, 0], [13, 0], [14, 0], [15, 0], [16, 0], [17, 0], [18, 0], [19, 0], [19, 1], [19, 2], [19, 3], [19, 4]]\n",
            "max score: 52.35, ref_score: 52.0, best_steps: [[1, 0], [2, 0], [3, 0], [4, 0], [5, 0], [6, 0], [7, 0], [8, 0]]\n",
            "max score: 19.9, ref_score: 21.0, best_steps: [[1, 0], [2, 0], [3, 0], [4, 0], [5, 0], [6, 0], [1, 2], [2, 2], [3, 2], [4, 2], [5, 2], [6, 2], [6, 3]]\n",
            "max score: 30.799999999999997, ref_score: 32.0, best_steps: [[1, 0], [2, 0], [3, 0], [4, 0]]\n",
            "max score: 28.35, ref_score: 26.0, best_steps: [[1, 0], [2, 0], [3, 0], [4, 0], [5, 0], [6, 0], [7, 0], [8, 0], [9, 0], [9, 1]]\n",
            "max score: 13, ref_score: 15.0, best_steps: [[1, 0], [2, 0], [3, 0], [4, 0]]\n",
            "max score: 85, ref_score: 85.0, best_steps: [[1, 0], [2, 0], [3, 0], [4, 0], [5, 0], [6, 0], [7, 0], [8, 0], [9, 0], [10, 0], [11, 0], [12, 0], [13, 0], [14, 0], [15, 0], [16, 0]]\n",
            "max score: 17.9, ref_score: 16.0, best_steps: [[1, 0], [2, 0], [3, 0], [4, 0], [5, 0]]\n",
            "max score: 123.75, ref_score: 133.0, best_steps: [[1, 0], [2, 0], [3, 0], [4, 0], [5, 0], [6, 0], [7, 0], [8, 0], [9, 0], [10, 0], [11, 0], [12, 0], [13, 0], [14, 0]]\n",
            "max score: 17.799999999999997, ref_score: 18.0, best_steps: [[1, 0], [2, 0], [3, 0], [4, 0], [5, 0]]\n",
            "max score: 81.05, ref_score: 71.0, best_steps: [[1, 0], [2, 0], [3, 0], [4, 0], [5, 0], [6, 0], [7, 0], [8, 0]]\n",
            "max score: 19.9, ref_score: 16.0, best_steps: [[1, 0], [2, 0], [3, 0], [4, 0], [5, 0], [6, 0], [1, 2], [2, 2], [3, 2], [4, 2]]\n",
            "max score: 101.5, ref_score: 113.0, best_steps: []\n",
            "max score: 23.049999999999997, ref_score: 33.0, best_steps: [[1, 0], [2, 0], [3, 0], [4, 0], [5, 0], [6, 0]]\n",
            "max score: 17.9, ref_score: 22.0, best_steps: [[1, 0], [2, 0], [3, 0], [4, 0]]\n",
            "max score: 36, ref_score: 46.0, best_steps: [[1, 0], [2, 0], [3, 0], [4, 0], [5, 0], [6, 0], [7, 0], [8, 0], [9, 0], [9, 1]]\n",
            "max score: 12, ref_score: 15.0, best_steps: [[1, 0], [2, 0], [3, 0], [4, 0], [5, 0], [6, 0], [1, 3], [2, 3], [3, 3]]\n",
            "max score: 29.099999999999994, ref_score: 47.0, best_steps: [[1, 0], [2, 0], [3, 0], [4, 0], [5, 0], [6, 0]]\n",
            "max score: 44, ref_score: 48.0, best_steps: [[1, 0], [2, 0], [3, 0], [4, 0], [5, 0], [6, 0], [7, 0], [8, 0], [9, 0]]\n",
            "max score: 11, ref_score: 11.0, best_steps: [[1, 0], [2, 0], [3, 0], [4, 0]]\n",
            "max score: 64.19999999999999, ref_score: 68.0, best_steps: [[1, 0], [2, 0], [3, 0], [4, 0], [5, 0], [6, 0]]\n",
            "max score: 24.9, ref_score: 20.0, best_steps: [[1, 0], [2, 0], [3, 0], [4, 0], [5, 0], [6, 0], [1, 3], [2, 3], [3, 3]]\n",
            "max score: 52.65, ref_score: 79.0, best_steps: [[1, 0], [2, 0], [3, 0], [4, 0], [5, 0], [6, 0], [7, 0], [8, 0], [9, 0], [10, 0]]\n",
            "max score: 70.4, ref_score: 57.0, best_steps: [[1, 0], [2, 0], [3, 0], [4, 0], [5, 0], [6, 0], [7, 0], [8, 0]]\n",
            "max score: 77, ref_score: 105.0, best_steps: [[1, 0], [2, 0], [3, 0], [4, 0], [5, 0], [6, 0], [7, 0], [8, 0], [9, 0], [10, 0], [11, 0], [12, 0], [13, 0], [14, 0], [15, 0], [16, 0], [17, 0], [18, 0], [19, 0]]\n",
            "max score: 72, ref_score: 86.0, best_steps: [[1, 0], [2, 0], [3, 0], [4, 0], [5, 0], [6, 0], [7, 0], [8, 0], [9, 0], [10, 0], [11, 0], [12, 0], [13, 0], [14, 0], [15, 0], [16, 0], [17, 0], [18, 0], [19, 0], [19, 1], [19, 2]]\n",
            "max score: 41.65, ref_score: 40.0, best_steps: [[1, 0], [2, 0], [3, 0], [4, 0], [5, 0], [6, 0], [7, 0], [8, 0], [9, 0], [10, 0], [11, 0]]\n",
            "max score: 40, ref_score: 59.0, best_steps: [[1, 0], [2, 0], [3, 0], [4, 0], [5, 0], [6, 0]]\n",
            "max score: 30.699999999999996, ref_score: 24.0, best_steps: [[1, 0], [2, 0], [3, 0], [4, 0], [5, 0]]\n",
            "max score: 9, ref_score: 16.0, best_steps: []\n",
            "max score: 58, ref_score: 64.0, best_steps: [[1, 0], [2, 0], [3, 0], [4, 0], [5, 0], [6, 0], [7, 0], [8, 0], [9, 0], [10, 0], [11, 0], [12, 0], [13, 0], [14, 0], [15, 0], [16, 0], [17, 0]]\n",
            "max score: 18, ref_score: 15.0, best_steps: [[1, 0], [2, 0], [3, 0], [4, 0], [5, 0], [6, 0], [7, 0], [1, 3], [2, 3], [3, 3], [4, 3], [5, 3], [6, 3], [7, 3]]\n",
            "max score: 47, ref_score: 51.0, best_steps: [[1, 0], [2, 0], [3, 0], [4, 0], [5, 0], [6, 0], [7, 0], [8, 0], [9, 0], [10, 0]]\n",
            "max score: 57, ref_score: 62.0, best_steps: [[1, 0], [2, 0], [3, 0], [4, 0], [5, 0], [6, 0], [7, 0], [8, 0], [9, 0], [10, 0], [11, 0], [12, 0], [13, 0], [14, 0], [15, 0], [16, 0], [17, 0], [18, 0], [19, 0], [19, 1], [19, 2], [19, 3]]\n",
            "max score: 78.85, ref_score: 95.0, best_steps: [[1, 0], [2, 0], [3, 0], [4, 0], [5, 0], [6, 0], [7, 0], [8, 0], [9, 0], [10, 0], [11, 0], [12, 0], [13, 0], [14, 0], [15, 0], [16, 0], [17, 0], [18, 0]]\n",
            "max score: 45.25, ref_score: 56.0, best_steps: [[1, 0], [2, 0], [3, 0], [4, 0], [5, 0], [6, 0], [7, 0], [8, 0], [9, 0], [10, 0], [11, 0], [12, 0], [13, 0], [14, 0], [15, 0], [15, 1], [15, 2], [15, 3]]\n",
            "max score: 25.799999999999997, ref_score: 23.0, best_steps: [[1, 0], [2, 0], [3, 0], [4, 0], [5, 0], [6, 0], [1, 3], [2, 3]]\n",
            "max score: 54.65, ref_score: 48.0, best_steps: [[1, 0], [2, 0], [3, 0], [4, 0], [5, 0], [6, 0], [7, 0], [8, 0], [9, 0], [10, 0], [11, 0], [11, 1]]\n",
            "max score: 21.9, ref_score: 20.0, best_steps: [[1, 0], [2, 0], [3, 0], [4, 0], [5, 0], [6, 0], [1, 3], [2, 3], [3, 3], [4, 3], [5, 3]]\n",
            "max score: 38, ref_score: 46.0, best_steps: [[1, 0], [2, 0], [3, 0], [4, 0], [5, 0], [6, 0], [7, 0], [8, 0], [9, 0], [10, 0], [11, 0], [11, 1]]\n",
            "max score: 34, ref_score: 37.0, best_steps: [[1, 0], [2, 0], [3, 0], [4, 0], [5, 0], [6, 0], [7, 0], [8, 0], [9, 0], [10, 0], [11, 0], [11, 1], [11, 2], [11, 3]]\n",
            "max score: 30, ref_score: 37.0, best_steps: [[1, 0], [2, 0], [3, 0], [4, 0], [5, 0], [6, 0], [7, 0], [8, 0], [9, 0], [9, 1]]\n",
            "max score: 20.9, ref_score: 16.0, best_steps: [[1, 0], [2, 0], [3, 0], [4, 0], [5, 0], [6, 0], [1, 3], [2, 3], [3, 3], [4, 3]]\n",
            "max score: 26, ref_score: 38.0, best_steps: [[1, 0], [2, 0], [3, 0], [4, 0], [5, 0], [6, 0], [7, 0], [8, 0], [9, 0], [10, 0]]\n",
            "max score: 12, ref_score: 16.0, best_steps: [[1, 0], [2, 0]]\n",
            "max score: 16.9, ref_score: 15.0, best_steps: [[1, 0], [2, 0], [3, 0], [4, 0], [5, 0], [6, 0], [1, 3], [2, 3], [3, 3], [4, 3], [5, 3], [6, 3]]\n",
            "max score: 79.7, ref_score: 80.0, best_steps: [[1, 0], [2, 0], [3, 0], [4, 0], [5, 0], [6, 0], [7, 0], [8, 0]]\n",
            "max score: 27.799999999999997, ref_score: 19.0, best_steps: [[1, 0], [2, 0], [3, 0], [4, 0], [5, 0], [6, 0], [1, 1], [2, 1], [3, 1], [4, 1], [5, 1]]\n",
            "max score: 7, ref_score: 10.0, best_steps: [[1, 0], [2, 0], [3, 0], [4, 0], [5, 0]]\n",
            "max score: 21.049999999999997, ref_score: 32.0, best_steps: [[1, 0], [2, 0], [3, 0], [4, 0], [5, 0], [6, 0]]\n",
            "max score: 74.05000000000001, ref_score: 68.0, best_steps: [[1, 0], [2, 0], [3, 0], [4, 0], [5, 0], [6, 0], [7, 0], [8, 0]]\n",
            "max score: 42.14999999999999, ref_score: 55.0, best_steps: [[1, 0], [2, 0], [3, 0], [4, 0], [5, 0], [6, 0]]\n",
            "max score: 20.9, ref_score: 22.0, best_steps: [[1, 0], [2, 0], [3, 0], [4, 0], [5, 0], [6, 0]]\n",
            "max score: 14.899999999999999, ref_score: 13.0, best_steps: [[1, 0], [2, 0], [3, 0], [4, 0], [5, 0], [6, 0], [1, 1], [2, 1], [3, 1], [4, 1]]\n",
            "max score: 39, ref_score: 66.0, best_steps: [[1, 0], [2, 0], [3, 0], [4, 0], [5, 0], [6, 0], [7, 0], [8, 0], [9, 0], [10, 0], [11, 0], [11, 1]]\n",
            "max score: 14, ref_score: 15.0, best_steps: [[1, 0], [2, 0]]\n"
          ]
        },
        {
          "ename": "",
          "evalue": "",
          "output_type": "error",
          "traceback": [
            "\u001b[1;31mThe Kernel crashed while executing code in the current cell or a previous cell. \n",
            "\u001b[1;31mPlease review the code in the cell(s) to identify a possible cause of the failure. \n",
            "\u001b[1;31mClick <a href='https://aka.ms/vscodeJupyterKernelCrash'>here</a> for more info. \n",
            "\u001b[1;31mView Jupyter <a href='command:jupyter.viewOutput'>log</a> for further details."
          ]
        }
      ],
      "source": [
        "import random \n",
        "\n",
        "def get_scores(index):\n",
        "    reference_score = dataset[index]['score']\n",
        "    steps = generate_steps(dataset[index]['start'])\n",
        "\n",
        "    puzzle_data = {\n",
        "        'start': dataset[index]['start'],\n",
        "        'moves': dataset[index]['moves'],\n",
        "        'steps': steps,\n",
        "        'solution': dataset[index]['solution'],\n",
        "        'score': dataset[index]['score'],\n",
        "        'accepted_pair': dataset[index]['accepted_pair']\n",
        "    }\n",
        "\n",
        "    puzzle = Puzzle(puzzle_data)\n",
        "    updated_puzzle, scores = puzzle.apply_all_steps()\n",
        "\n",
        "    max_score = max(scores)\n",
        "    max_index = scores.index(max_score)\n",
        "    best_steps = steps[:max_index]\n",
        "\n",
        "    print(f'max score: {max_score}, ref_score: {reference_score}, best_steps: {best_steps}')\n",
        "    return max_score, reference_score, best_steps\n",
        "\n",
        "\n",
        "random_indices = random.sample(range(len(dataset)), 200)\n",
        "\n",
        "max_scores, reference_scores = [], []\n",
        "\n",
        "for i in random_indices:\n",
        "    max_score, reference_score, _ = get_scores(i)\n",
        "    max_scores.append(max_score)\n",
        "    reference_scores.append(reference_score)\n",
        "\n"
      ]
    },
    {
      "cell_type": "code",
      "execution_count": null,
      "metadata": {},
      "outputs": [
        {
          "data": {
            "image/png": "[encoded data removed]",
            "text/plain": [
              "<Figure size 800x500 with 1 Axes>"
            ]
          },
          "metadata": {},
          "output_type": "display_data"
        }
      ],
      "source": [
        "arr= np.arange(0 , 200)\n",
        "\n",
        "\n",
        "# Plot histogram\n",
        "plt.figure(figsize=(8, 5))\n",
        "plt.hist(max_scores, bins=8, alpha=0.6, label=\"Human Scores\", edgecolor=\"black\")\n",
        "plt.hist(reference_scores, bins=8, alpha=0.6, label=\"Machine Scores\", edgecolor=\"black\")\n",
        "\n",
        "# Labels and Title\n",
        "plt.xlabel(\"Score\")\n",
        "plt.ylabel(\"Frequency\")\n",
        "plt.title(\"Comparison of Human vs Machine Scores\")\n",
        "plt.legend()\n",
        "\n",
        "# Show plot\n",
        "plt.show()"
      ]
    },
    {
      "cell_type": "code",
      "execution_count": null,
      "metadata": {},
      "outputs": [
        {
          "data": {
            "text/plain": [
              "-11.249999999999993"
            ]
          },
          "execution_count": 12,
          "metadata": {},
          "output_type": "execute_result"
        }
      ],
      "source": [
        "sum = 0\n",
        "\n",
        "for i in range(200):\n",
        "    sum += (reference_score - max_score)/reference_score * 100\n",
        "\n",
        "sum/200"
      ]
    },
    {
      "cell_type": "code",
      "execution_count": 41,
      "metadata": {},
      "outputs": [
        {
          "name": "stdout",
          "output_type": "stream",
          "text": [
            "Total Gearbox Score: 12\n",
            "Total Gearbox Score: 12\n",
            "Total Gearbox Score: 15\n",
            "Total Gearbox Score: 16\n",
            "Total Gearbox Score: 19\n",
            "Total Gearbox Score: 19\n",
            "Total Gearbox Score: 19\n",
            "Total Gearbox Score: 19\n",
            "Total Gearbox Score: 17\n",
            "Total Gearbox Score: 19\n",
            "Total Gearbox Score: 19\n",
            "Total Gearbox Score: 17\n",
            "Total Gearbox Score: 18\n",
            "Total Gearbox Score: 18\n",
            "Total Gearbox Score: 16\n",
            "Total Gearbox Score: 16\n",
            "Total Gearbox Score: 15\n",
            "Total Gearbox Score: 15\n",
            "Total Gearbox Score: 15\n",
            "Total Gearbox Score: 15\n",
            "Total Gearbox Score: 15\n",
            "Total Gearbox Score: 15\n",
            "Total Gearbox Score: 15\n",
            "Total Gearbox Score: 15\n",
            "Total Gearbox Score: 15\n",
            "Total Gearbox Score: 15\n",
            "Total Gearbox Score: 15\n",
            "Total Gearbox Score: 15\n",
            "Total Gearbox Score: 15\n",
            "Total Gearbox Score: 14\n",
            "Total Gearbox Score: 14\n"
          ]
        },
        {
          "data": {
            "image/png": "[encoded data removed]",
            "text/plain": [
              "<Figure size 12400x600 with 31 Axes>"
            ]
          },
          "metadata": {},
          "output_type": "display_data"
        },
        {
          "name": "stdout",
          "output_type": "stream",
          "text": [
            "17.0\n"
          ]
        }
      ],
      "source": [
        "\n",
        "index = 23\n",
        "\n",
        "steps = generate_steps(dataset[index]['start'])\n",
        "\n",
        "puzzle_data = {\n",
        "    'start': dataset[index]['start'],\n",
        "    'moves': dataset[index]['moves'],\n",
        "    'steps': steps,\n",
        "    'solution': dataset[index]['solution'],\n",
        "    'score': dataset[index]['score'],\n",
        "    'accepted_pair': dataset[index]['accepted_pair']\n",
        "}\n",
        "\n",
        "puzzle = Puzzle(puzzle_data)\n",
        "updated_puzzle = puzzle.apply_all_steps()\n",
        "\n",
        "print(dataset[index]['score'])"
      ]
    },
    {
      "cell_type": "code",
      "execution_count": 36,
      "metadata": {},
      "outputs": [
        {
          "data": {
            "text/plain": [
              "18.0"
            ]
          },
          "execution_count": 36,
          "metadata": {},
          "output_type": "execute_result"
        }
      ],
      "source": [
        "dataset[0]['score']"
      ]
    },
    {
      "cell_type": "markdown",
      "metadata": {},
      "source": [
        "## Training with Qwen2.5"
      ]
    },
    {
      "cell_type": "code",
      "execution_count": 1,
      "metadata": {},
      "outputs": [
        {
          "name": "stderr",
          "output_type": "stream",
          "text": [
            "Sliding Window Attention is enabled but not implemented for `sdpa`; unexpected results may be encountered.\n"
          ]
        }
      ],
      "source": [
        "from transformers import AutoTokenizer, AutoModelForCausalLM\n",
        "\n",
        "model_name = \"Qwen/Qwen2.5-0.5B-Instruct\"\n",
        "tokenizer = AutoTokenizer.from_pretrained(model_name, trust_remote_code=True)\n",
        "model = AutoModelForCausalLM.from_pretrained(model_name, device_map=\"auto\")"
      ]
    },
    {
      "cell_type": "code",
      "execution_count": 2,
      "metadata": {},
      "outputs": [
        {
          "data": {
            "application/vnd.jupyter.widget-view+json": {
              "model_id": "50ba06d77699492791bfd5620701db0d",
              "version_major": 2,
              "version_minor": 0
            },
            "text/plain": [
              "Filter:   0%|          | 0/100000 [00:00<?, ? examples/s]"
            ]
          },
          "metadata": {},
          "output_type": "display_data"
        },
        {
          "data": {
            "application/vnd.jupyter.widget-view+json": {
              "model_id": "ede4185170ed4956bab0449552f8949d",
              "version_major": 2,
              "version_minor": 0
            },
            "text/plain": [
              "Map:   0%|          | 0/99999 [00:00<?, ? examples/s]"
            ]
          },
          "metadata": {},
          "output_type": "display_data"
        }
      ],
      "source": [
        "import pandas as pd\n",
        "from datasets import Dataset\n",
        "\n",
        "data = pd.read_pickle('./train_data.pickle')\n",
        "dataset = Dataset.from_pandas(data).shuffle(seed=42).select(range(100000))\n",
        "\n",
        "def preprocess_function(examples):\n",
        "    # Process input_text for batch\n",
        "    inputs = [\"Align DNA sequences:\\n\" + \"\\n\".join(f\"{i}: {seq}\" for i, seq in enumerate(start)) for start in examples[\"start\"]]\n",
        "    # Process target_text for batch\n",
        "    targets = [\", \".join(str(step) for step in steps) for steps in examples[\"steps\"]]\n",
        "\n",
        "    # Concatenate input and target (CausalLM training)\n",
        "    full_texts = [inp + \"\\n\\n\" + tgt for inp, tgt in zip(inputs, targets)]\n",
        "\n",
        "    # Tokenize entire input-output sequence\n",
        "    model_inputs = tokenizer(full_texts, padding=\"max_length\", truncation=True, max_length=128)\n",
        "    \n",
        "    return model_inputs\n",
        "\n",
        "dataset = dataset.filter(lambda example: all(value is not None for value in example.values()))\n",
        "dataset = dataset.map(preprocess_function, batched=True)"
      ]
    },
    {
      "cell_type": "code",
      "execution_count": 3,
      "metadata": {},
      "outputs": [
        {
          "data": {
            "application/vnd.jupyter.widget-view+json": {
              "model_id": "e27c97a2f0754eed83089a0754d4be4b",
              "version_major": 2,
              "version_minor": 0
            },
            "text/plain": [
              "Saving the dataset (0/1 shards):   0%|          | 0/99999 [00:00<?, ? examples/s]"
            ]
          },
          "metadata": {},
          "output_type": "display_data"
        }
      ],
      "source": [
        "dataset.save_to_disk('preprocessed_subset')"
      ]
    },
    {
      "cell_type": "code",
      "execution_count": 2,
      "metadata": {},
      "outputs": [],
      "source": [
        "from datasets import load_from_disk\n",
        "dataset = load_from_disk('preprocessed_subset')"
      ]
    },
    {
      "cell_type": "code",
      "execution_count": 3,
      "metadata": {},
      "outputs": [],
      "source": [
        "train_test_split = dataset.train_test_split(test_size=10000, seed=42)\n",
        "train_dataset = train_test_split[\"train\"]\n",
        "test_dataset = train_test_split[\"test\"]"
      ]
    },
    {
      "cell_type": "code",
      "execution_count": 4,
      "metadata": {},
      "outputs": [
        {
          "data": {
            "text/plain": [
              "(Dataset({\n",
              "     features: ['start', 'moves', 'steps', 'solution', 'score', 'accepted_pair', '__index_level_0__', 'input_ids', 'attention_mask'],\n",
              "     num_rows: 89999\n",
              " }),\n",
              " Dataset({\n",
              "     features: ['start', 'moves', 'steps', 'solution', 'score', 'accepted_pair', '__index_level_0__', 'input_ids', 'attention_mask'],\n",
              "     num_rows: 10000\n",
              " }))"
            ]
          },
          "execution_count": 4,
          "metadata": {},
          "output_type": "execute_result"
        }
      ],
      "source": [
        "train_dataset, test_dataset"
      ]
    },
    {
      "cell_type": "code",
      "execution_count": 5,
      "metadata": {},
      "outputs": [
        {
          "name": "stderr",
          "output_type": "stream",
          "text": [
            "c:\\Users\\dante\\AppData\\Local\\Programs\\Python\\Python312\\Lib\\site-packages\\transformers\\training_args.py:1594: FutureWarning: `evaluation_strategy` is deprecated and will be removed in version 4.46 of 🤗 Transformers. Use `eval_strategy` instead\n",
            "  warnings.warn(\n",
            "C:\\Users\\dante\\AppData\\Local\\Temp\\ipykernel_18212\\949893558.py:47: FutureWarning: `tokenizer` is deprecated and will be removed in version 5.0.0 for `Trainer.__init__`. Use `processing_class` instead.\n",
            "  trainer = Trainer(\n"
          ]
        }
      ],
      "source": [
        "from transformers import TrainingArguments, Trainer, DataCollatorForLanguageModeling\n",
        "from peft import LoraConfig, get_peft_model, TaskType\n",
        "\n",
        "\n",
        "data_collator = DataCollatorForLanguageModeling(\n",
        "    tokenizer=tokenizer,\n",
        "    pad_to_multiple_of=8,  # Helps with tensor efficiency\n",
        "    return_tensors=\"pt\",\n",
        "    mlm=False\n",
        ")\n",
        "\n",
        "# Define LoRA configuration\n",
        "lora_config = LoraConfig(\n",
        "    r=16,  # Rank size\n",
        "    lora_alpha=32,\n",
        "    lora_dropout=0.1,\n",
        "    bias=\"none\",\n",
        "    task_type=TaskType.CAUSAL_LM,  # Ensure it's set for CausalLM\n",
        ")\n",
        "\n",
        "training_args = TrainingArguments(\n",
        "    output_dir=\"./qwen2.5-checkpoints\",\n",
        "    logging_dir=\"./qwen2.5-logs\",       # TensorBoard log directory\n",
        "    logging_strategy=\"steps\",           # Log after every few steps\n",
        "    logging_steps=100,                  # Log every 100 steps\n",
        "    report_to=\"tensorboard\",            # Report logs to TensorBoard\n",
        "\n",
        "    evaluation_strategy=\"steps\",\n",
        "    eval_steps=100,                     # Evaluate every 200 steps\n",
        "\n",
        "    save_strategy=\"steps\",\n",
        "    save_steps=100,\n",
        "    \n",
        "    per_device_train_batch_size=24,\n",
        "    per_device_eval_batch_size=24,\n",
        "\n",
        "    learning_rate=2e-5,\n",
        "    weight_decay=0.01,\n",
        "\n",
        "    gradient_accumulation_steps=8,      # Accumulate gradients to reduce memory usage\n",
        "    num_train_epochs=3,\n",
        "    fp16=True,\n",
        "    gradient_checkpointing=True,        # Reduce memory usage\n",
        "\n",
        ")\n",
        "\n",
        "trainer = Trainer(\n",
        "    model=model,\n",
        "    args=training_args,\n",
        "    train_dataset=train_dataset,\n",
        "    eval_dataset=test_dataset,\n",
        "    tokenizer=tokenizer,\n",
        "    data_collator=data_collator\n",
        ")"
      ]
    },
    {
      "cell_type": "code",
      "execution_count": 6,
      "metadata": {},
      "outputs": [
        {
          "name": "stderr",
          "output_type": "stream",
          "text": [
            "`use_cache=True` is incompatible with gradient checkpointing. Setting `use_cache=False`.\n"
          ]
        },
        {
          "data": {
            "text/html": [
              "\n",
              "    <div>\n",
              "      \n",
              "      <progress value='1404' max='1404' style='width:300px; height:20px; vertical-align: middle;'></progress>\n",
              "      [1404/1404 1:19:22, Epoch 2/3]\n",
              "    </div>\n",
              "    <table border=\"1\" class=\"dataframe\">\n",
              "  <thead>\n",
              " <tr style=\"text-align: left;\">\n",
              "      <th>Step</th>\n",
              "      <th>Training Loss</th>\n",
              "      <th>Validation Loss</th>\n",
              "    </tr>\n",
              "  </thead>\n",
              "  <tbody>\n",
              "    <tr>\n",
              "      <td>100</td>\n",
              "      <td>0.901300</td>\n",
              "      <td>0.817944</td>\n",
              "    </tr>\n",
              "    <tr>\n",
              "      <td>200</td>\n",
              "      <td>0.795200</td>\n",
              "      <td>0.787717</td>\n",
              "    </tr>\n",
              "    <tr>\n",
              "      <td>300</td>\n",
              "      <td>0.774600</td>\n",
              "      <td>0.770050</td>\n",
              "    </tr>\n",
              "    <tr>\n",
              "      <td>400</td>\n",
              "      <td>0.758500</td>\n",
              "      <td>0.757847</td>\n",
              "    </tr>\n",
              "    <tr>\n",
              "      <td>500</td>\n",
              "      <td>0.747500</td>\n",
              "      <td>0.750123</td>\n",
              "    </tr>\n",
              "    <tr>\n",
              "      <td>600</td>\n",
              "      <td>0.734700</td>\n",
              "      <td>0.741800</td>\n",
              "    </tr>\n",
              "    <tr>\n",
              "      <td>700</td>\n",
              "      <td>0.726400</td>\n",
              "      <td>0.735583</td>\n",
              "    </tr>\n",
              "    <tr>\n",
              "      <td>800</td>\n",
              "      <td>0.719400</td>\n",
              "      <td>0.729904</td>\n",
              "    </tr>\n",
              "    <tr>\n",
              "      <td>900</td>\n",
              "      <td>0.716000</td>\n",
              "      <td>0.723949</td>\n",
              "    </tr>\n",
              "    <tr>\n",
              "      <td>1000</td>\n",
              "      <td>0.697700</td>\n",
              "      <td>0.722306</td>\n",
              "    </tr>\n",
              "    <tr>\n",
              "      <td>1100</td>\n",
              "      <td>0.688400</td>\n",
              "      <td>0.718605</td>\n",
              "    </tr>\n",
              "    <tr>\n",
              "      <td>1200</td>\n",
              "      <td>0.682100</td>\n",
              "      <td>0.715254</td>\n",
              "    </tr>\n",
              "    <tr>\n",
              "      <td>1300</td>\n",
              "      <td>0.682900</td>\n",
              "      <td>0.711813</td>\n",
              "    </tr>\n",
              "    <tr>\n",
              "      <td>1400</td>\n",
              "      <td>0.678100</td>\n",
              "      <td>0.710262</td>\n",
              "    </tr>\n",
              "  </tbody>\n",
              "</table><p>"
            ],
            "text/plain": [
              "<IPython.core.display.HTML object>"
            ]
          },
          "metadata": {},
          "output_type": "display_data"
        },
        {
          "data": {
            "text/plain": [
              "TrainOutput(global_step=1404, training_loss=0.7357440584065907, metrics={'train_runtime': 4765.7189, 'train_samples_per_second': 56.654, 'train_steps_per_second': 0.295, 'total_flos': 7.406807365681152e+16, 'train_loss': 0.7357440584065907, 'epoch': 2.994133333333333})"
            ]
          },
          "execution_count": 6,
          "metadata": {},
          "output_type": "execute_result"
        }
      ],
      "source": [
        "trainer.train()"
      ]
    },
    {
      "cell_type": "code",
      "execution_count": 7,
      "metadata": {},
      "outputs": [],
      "source": [
        "from transformers import AutoTokenizer, AutoModel\n",
        "\n",
        "# Path to the checkpoint folder (e.g., after a saved training run)\n",
        "checkpoint_path = \"./qwen2.5-checkpoints/checkpoint-1404\"  # Change to your actual checkpoint path\n",
        "\n",
        "# Load model from checkpoint\n",
        "model = AutoModelForCausalLM.from_pretrained(checkpoint_path)\n",
        "\n",
        "# Load tokenizer (should match the model)\n",
        "tokenizer = AutoTokenizer.from_pretrained(checkpoint_path)\n"
      ]
    },
    {
      "cell_type": "code",
      "execution_count": 21,
      "metadata": {},
      "outputs": [
        {
          "data": {
            "text/plain": [
              "'[7, 0], [7, 1], [7, 2], [6, 2], [5, 2], [4, 2], [4, 2], [4, 3], [3, 2], [3, 3], [3, 4] [5, 8], [5, 9] [6, 8], [6, 9], [2, 7], [1, 7] [1, 8], [2, 8], [2, 9] [1, 9] ['"
            ]
          },
          "execution_count": 21,
          "metadata": {},
          "output_type": "execute_result"
        }
      ],
      "source": [
        "from transformers import GenerationConfig\n",
        "\n",
        "start = dataset[2]['start']\n",
        "input_text = \"Align DNA sequences:\\n\" + \"\\n\".join(f\"{i}: {seq}\" for i, seq in enumerate(start))\n",
        "\n",
        "input_ids = tokenizer(input_text, return_tensors=\"pt\").input_ids.to(model.device)\n",
        "\n",
        "max_new_tokens = 128\n",
        "\n",
        "# Set generation configuration\n",
        "gen_config = GenerationConfig(\n",
        "    max_new_tokens=max_new_tokens,\n",
        "    temperature=0.7,  # Adjust for more/less randomness\n",
        "    top_k=50,\n",
        "    top_p=0.9,\n",
        "    do_sample=True,\n",
        "    repetition_penalty=1.1,\n",
        ")\n",
        "\n",
        "\n",
        "output_ids = model.generate(input_ids, generation_config=gen_config)\n",
        "\n",
        "# Decode output\n",
        "output_text = tokenizer.decode(output_ids[0], skip_special_tokens=True)\n",
        "\n",
        "# Extract only the moves from the output (remove the input prompt)\n",
        "output_text.split(\"\\n\\n\")[-1]  # Everything after input prompt\n",
        "\n"
      ]
    },
    {
      "cell_type": "code",
      "execution_count": null,
      "metadata": {},
      "outputs": [],
      "source": []
    }
  ],
  "metadata": {
    "colab": {
      "provenance": []
    },
    "kernelspec": {
      "display_name": "Python 3",
      "name": "python3"
    },
    "language_info": {
      "codemirror_mode": {
        "name": "ipython",
        "version": 3
      },
      "file_extension": ".py",
      "mimetype": "text/x-python",
      "name": "python",
      "nbconvert_exporter": "python",
      "pygments_lexer": "ipython3",
      "version": "3.12.0"
    }
  },
  "nbformat": 4,
  "nbformat_minor": 0
}
